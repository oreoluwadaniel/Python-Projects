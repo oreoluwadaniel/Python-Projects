{
 "cells": [
  {
   "cell_type": "code",
   "execution_count": 72,
   "id": "b2c6d914",
   "metadata": {},
   "outputs": [],
   "source": [
    "import pandas as pd\n",
    "import matplotlib.pyplot as plt\n",
    "import seaborn as sns\n",
    "import numpy as np\n",
    "from scipy.stats import norm\n",
    "from sklearn.preprocessing import StandardScaler\n",
    "from scipy import stats\n",
    "import warnings\n",
    "%matplotlib inline\n",
    "import os\n",
    "from sklearn.impute import SimpleImputer"
   ]
  },
  {
   "cell_type": "code",
   "execution_count": 73,
   "id": "3e3dd0eb",
   "metadata": {},
   "outputs": [
    {
     "name": "stdout",
     "output_type": "stream",
     "text": [
      "C:\\Users\\USER\\Downloads\n",
      "C:\\Users\\USER\\Downloads\n"
     ]
    }
   ],
   "source": [
    "path = os.getcwd()\n",
    "print(path)\n",
    "os.chdir(\"C:/Users/USER/Downloads\")\n",
    "print(os.getcwd())"
   ]
  },
  {
   "cell_type": "code",
   "execution_count": 74,
   "id": "375e161e",
   "metadata": {},
   "outputs": [
    {
     "data": {
      "text/html": [
       "<div>\n",
       "<style scoped>\n",
       "    .dataframe tbody tr th:only-of-type {\n",
       "        vertical-align: middle;\n",
       "    }\n",
       "\n",
       "    .dataframe tbody tr th {\n",
       "        vertical-align: top;\n",
       "    }\n",
       "\n",
       "    .dataframe thead th {\n",
       "        text-align: right;\n",
       "    }\n",
       "</style>\n",
       "<table border=\"1\" class=\"dataframe\">\n",
       "  <thead>\n",
       "    <tr style=\"text-align: right;\">\n",
       "      <th></th>\n",
       "      <th>DR_NO</th>\n",
       "      <th>Date Rptd</th>\n",
       "      <th>DATE OCC</th>\n",
       "      <th>TIME OCC</th>\n",
       "      <th>AREA</th>\n",
       "      <th>AREA NAME</th>\n",
       "      <th>Rpt Dist No</th>\n",
       "      <th>Part 1-2</th>\n",
       "      <th>Crm Cd</th>\n",
       "      <th>Crm Cd Desc</th>\n",
       "      <th>...</th>\n",
       "      <th>Status</th>\n",
       "      <th>Status Desc</th>\n",
       "      <th>Crm Cd 1</th>\n",
       "      <th>Crm Cd 2</th>\n",
       "      <th>Crm Cd 3</th>\n",
       "      <th>Crm Cd 4</th>\n",
       "      <th>LOCATION</th>\n",
       "      <th>Cross Street</th>\n",
       "      <th>LAT</th>\n",
       "      <th>LON</th>\n",
       "    </tr>\n",
       "  </thead>\n",
       "  <tbody>\n",
       "    <tr>\n",
       "      <th>0</th>\n",
       "      <td>10304468</td>\n",
       "      <td>01/08/2020 12:00:00 AM</td>\n",
       "      <td>01/08/2020 12:00:00 AM</td>\n",
       "      <td>2230</td>\n",
       "      <td>3</td>\n",
       "      <td>Southwest</td>\n",
       "      <td>377</td>\n",
       "      <td>2</td>\n",
       "      <td>624</td>\n",
       "      <td>BATTERY - SIMPLE ASSAULT</td>\n",
       "      <td>...</td>\n",
       "      <td>AO</td>\n",
       "      <td>Adult Other</td>\n",
       "      <td>624.0</td>\n",
       "      <td>NaN</td>\n",
       "      <td>NaN</td>\n",
       "      <td>NaN</td>\n",
       "      <td>1100 W  39TH                         PL</td>\n",
       "      <td>NaN</td>\n",
       "      <td>34.0141</td>\n",
       "      <td>-118.2978</td>\n",
       "    </tr>\n",
       "    <tr>\n",
       "      <th>1</th>\n",
       "      <td>190101086</td>\n",
       "      <td>01/02/2020 12:00:00 AM</td>\n",
       "      <td>01/01/2020 12:00:00 AM</td>\n",
       "      <td>330</td>\n",
       "      <td>1</td>\n",
       "      <td>Central</td>\n",
       "      <td>163</td>\n",
       "      <td>2</td>\n",
       "      <td>624</td>\n",
       "      <td>BATTERY - SIMPLE ASSAULT</td>\n",
       "      <td>...</td>\n",
       "      <td>IC</td>\n",
       "      <td>Invest Cont</td>\n",
       "      <td>624.0</td>\n",
       "      <td>NaN</td>\n",
       "      <td>NaN</td>\n",
       "      <td>NaN</td>\n",
       "      <td>700 S  HILL                         ST</td>\n",
       "      <td>NaN</td>\n",
       "      <td>34.0459</td>\n",
       "      <td>-118.2545</td>\n",
       "    </tr>\n",
       "    <tr>\n",
       "      <th>2</th>\n",
       "      <td>200110444</td>\n",
       "      <td>04/14/2020 12:00:00 AM</td>\n",
       "      <td>02/13/2020 12:00:00 AM</td>\n",
       "      <td>1200</td>\n",
       "      <td>1</td>\n",
       "      <td>Central</td>\n",
       "      <td>155</td>\n",
       "      <td>2</td>\n",
       "      <td>845</td>\n",
       "      <td>SEX OFFENDER REGISTRANT OUT OF COMPLIANCE</td>\n",
       "      <td>...</td>\n",
       "      <td>AA</td>\n",
       "      <td>Adult Arrest</td>\n",
       "      <td>845.0</td>\n",
       "      <td>NaN</td>\n",
       "      <td>NaN</td>\n",
       "      <td>NaN</td>\n",
       "      <td>200 E  6TH                          ST</td>\n",
       "      <td>NaN</td>\n",
       "      <td>34.0448</td>\n",
       "      <td>-118.2474</td>\n",
       "    </tr>\n",
       "    <tr>\n",
       "      <th>3</th>\n",
       "      <td>191501505</td>\n",
       "      <td>01/01/2020 12:00:00 AM</td>\n",
       "      <td>01/01/2020 12:00:00 AM</td>\n",
       "      <td>1730</td>\n",
       "      <td>15</td>\n",
       "      <td>N Hollywood</td>\n",
       "      <td>1543</td>\n",
       "      <td>2</td>\n",
       "      <td>745</td>\n",
       "      <td>VANDALISM - MISDEAMEANOR ($399 OR UNDER)</td>\n",
       "      <td>...</td>\n",
       "      <td>IC</td>\n",
       "      <td>Invest Cont</td>\n",
       "      <td>745.0</td>\n",
       "      <td>998.0</td>\n",
       "      <td>NaN</td>\n",
       "      <td>NaN</td>\n",
       "      <td>5400    CORTEEN                      PL</td>\n",
       "      <td>NaN</td>\n",
       "      <td>34.1685</td>\n",
       "      <td>-118.4019</td>\n",
       "    </tr>\n",
       "    <tr>\n",
       "      <th>4</th>\n",
       "      <td>191921269</td>\n",
       "      <td>01/01/2020 12:00:00 AM</td>\n",
       "      <td>01/01/2020 12:00:00 AM</td>\n",
       "      <td>415</td>\n",
       "      <td>19</td>\n",
       "      <td>Mission</td>\n",
       "      <td>1998</td>\n",
       "      <td>2</td>\n",
       "      <td>740</td>\n",
       "      <td>VANDALISM - FELONY ($400 &amp; OVER, ALL CHURCH VA...</td>\n",
       "      <td>...</td>\n",
       "      <td>IC</td>\n",
       "      <td>Invest Cont</td>\n",
       "      <td>740.0</td>\n",
       "      <td>NaN</td>\n",
       "      <td>NaN</td>\n",
       "      <td>NaN</td>\n",
       "      <td>14400    TITUS                        ST</td>\n",
       "      <td>NaN</td>\n",
       "      <td>34.2198</td>\n",
       "      <td>-118.4468</td>\n",
       "    </tr>\n",
       "  </tbody>\n",
       "</table>\n",
       "<p>5 rows × 28 columns</p>\n",
       "</div>"
      ],
      "text/plain": [
       "       DR_NO               Date Rptd                DATE OCC  TIME OCC  AREA  \\\n",
       "0   10304468  01/08/2020 12:00:00 AM  01/08/2020 12:00:00 AM      2230     3   \n",
       "1  190101086  01/02/2020 12:00:00 AM  01/01/2020 12:00:00 AM       330     1   \n",
       "2  200110444  04/14/2020 12:00:00 AM  02/13/2020 12:00:00 AM      1200     1   \n",
       "3  191501505  01/01/2020 12:00:00 AM  01/01/2020 12:00:00 AM      1730    15   \n",
       "4  191921269  01/01/2020 12:00:00 AM  01/01/2020 12:00:00 AM       415    19   \n",
       "\n",
       "     AREA NAME  Rpt Dist No  Part 1-2  Crm Cd  \\\n",
       "0    Southwest          377         2     624   \n",
       "1      Central          163         2     624   \n",
       "2      Central          155         2     845   \n",
       "3  N Hollywood         1543         2     745   \n",
       "4      Mission         1998         2     740   \n",
       "\n",
       "                                         Crm Cd Desc  ... Status  \\\n",
       "0                           BATTERY - SIMPLE ASSAULT  ...     AO   \n",
       "1                           BATTERY - SIMPLE ASSAULT  ...     IC   \n",
       "2          SEX OFFENDER REGISTRANT OUT OF COMPLIANCE  ...     AA   \n",
       "3           VANDALISM - MISDEAMEANOR ($399 OR UNDER)  ...     IC   \n",
       "4  VANDALISM - FELONY ($400 & OVER, ALL CHURCH VA...  ...     IC   \n",
       "\n",
       "    Status Desc Crm Cd 1 Crm Cd 2  Crm Cd 3 Crm Cd 4  \\\n",
       "0   Adult Other    624.0      NaN       NaN      NaN   \n",
       "1   Invest Cont    624.0      NaN       NaN      NaN   \n",
       "2  Adult Arrest    845.0      NaN       NaN      NaN   \n",
       "3   Invest Cont    745.0    998.0       NaN      NaN   \n",
       "4   Invest Cont    740.0      NaN       NaN      NaN   \n",
       "\n",
       "                                   LOCATION Cross Street      LAT       LON  \n",
       "0   1100 W  39TH                         PL          NaN  34.0141 -118.2978  \n",
       "1    700 S  HILL                         ST          NaN  34.0459 -118.2545  \n",
       "2    200 E  6TH                          ST          NaN  34.0448 -118.2474  \n",
       "3   5400    CORTEEN                      PL          NaN  34.1685 -118.4019  \n",
       "4  14400    TITUS                        ST          NaN  34.2198 -118.4468  \n",
       "\n",
       "[5 rows x 28 columns]"
      ]
     },
     "execution_count": 74,
     "metadata": {},
     "output_type": "execute_result"
    }
   ],
   "source": [
    "#import Dataset\n",
    "Crime=pd.read_csv('C:/Users/USER/Downloads/Crime_Data_from_2020_to_Present.csv', sep=',',encoding='latin-1')\n",
    "Crime.head(5)"
   ]
  },
  {
   "cell_type": "code",
   "execution_count": 75,
   "id": "c09b5edf",
   "metadata": {},
   "outputs": [
    {
     "data": {
      "text/plain": [
       "Index(['DR_NO', 'Date Rptd', 'DATE OCC', 'TIME OCC', 'AREA', 'AREA NAME',\n",
       "       'Rpt Dist No', 'Part 1-2', 'Crm Cd', 'Crm Cd Desc', 'Mocodes',\n",
       "       'Vict Age', 'Vict Sex', 'Vict Descent', 'Premis Cd', 'Premis Desc',\n",
       "       'Weapon Used Cd', 'Weapon Desc', 'Status', 'Status Desc', 'Crm Cd 1',\n",
       "       'Crm Cd 2', 'Crm Cd 3', 'Crm Cd 4', 'LOCATION', 'Cross Street', 'LAT',\n",
       "       'LON'],\n",
       "      dtype='object')"
      ]
     },
     "execution_count": 75,
     "metadata": {},
     "output_type": "execute_result"
    }
   ],
   "source": [
    "#column names\n",
    "\n",
    "Crime.columns"
   ]
  },
  {
   "cell_type": "code",
   "execution_count": 76,
   "id": "cbf248aa",
   "metadata": {},
   "outputs": [
    {
     "data": {
      "text/plain": [
       "(862906, 28)"
      ]
     },
     "execution_count": 76,
     "metadata": {},
     "output_type": "execute_result"
    }
   ],
   "source": [
    "#data shape by row and column\n",
    "\n",
    "Crime.shape"
   ]
  },
  {
   "cell_type": "code",
   "execution_count": 77,
   "id": "e0ef798e",
   "metadata": {},
   "outputs": [
    {
     "data": {
      "text/html": [
       "<div>\n",
       "<style scoped>\n",
       "    .dataframe tbody tr th:only-of-type {\n",
       "        vertical-align: middle;\n",
       "    }\n",
       "\n",
       "    .dataframe tbody tr th {\n",
       "        vertical-align: top;\n",
       "    }\n",
       "\n",
       "    .dataframe thead th {\n",
       "        text-align: right;\n",
       "    }\n",
       "</style>\n",
       "<table border=\"1\" class=\"dataframe\">\n",
       "  <thead>\n",
       "    <tr style=\"text-align: right;\">\n",
       "      <th></th>\n",
       "      <th>DR_NO</th>\n",
       "      <th>TIME OCC</th>\n",
       "      <th>AREA</th>\n",
       "      <th>Rpt Dist No</th>\n",
       "      <th>Part 1-2</th>\n",
       "      <th>Crm Cd</th>\n",
       "      <th>Vict Age</th>\n",
       "      <th>Premis Cd</th>\n",
       "      <th>Weapon Used Cd</th>\n",
       "      <th>Crm Cd 1</th>\n",
       "      <th>Crm Cd 2</th>\n",
       "      <th>Crm Cd 3</th>\n",
       "      <th>Crm Cd 4</th>\n",
       "      <th>LAT</th>\n",
       "      <th>LON</th>\n",
       "    </tr>\n",
       "  </thead>\n",
       "  <tbody>\n",
       "    <tr>\n",
       "      <th>count</th>\n",
       "      <td>8.629060e+05</td>\n",
       "      <td>862906.000000</td>\n",
       "      <td>862906.000000</td>\n",
       "      <td>862906.000000</td>\n",
       "      <td>862906.000000</td>\n",
       "      <td>862906.000000</td>\n",
       "      <td>862906.000000</td>\n",
       "      <td>862886.000000</td>\n",
       "      <td>299647.000000</td>\n",
       "      <td>862896.000000</td>\n",
       "      <td>58447.000000</td>\n",
       "      <td>1742.000000</td>\n",
       "      <td>57.000000</td>\n",
       "      <td>862906.000000</td>\n",
       "      <td>862906.000000</td>\n",
       "    </tr>\n",
       "    <tr>\n",
       "      <th>mean</th>\n",
       "      <td>1.961506e+08</td>\n",
       "      <td>1345.993386</td>\n",
       "      <td>10.860006</td>\n",
       "      <td>1132.317284</td>\n",
       "      <td>1.419721</td>\n",
       "      <td>501.994537</td>\n",
       "      <td>29.941419</td>\n",
       "      <td>309.283723</td>\n",
       "      <td>365.876218</td>\n",
       "      <td>501.778446</td>\n",
       "      <td>957.486697</td>\n",
       "      <td>981.040184</td>\n",
       "      <td>988.508772</td>\n",
       "      <td>34.026953</td>\n",
       "      <td>-118.190290</td>\n",
       "    </tr>\n",
       "    <tr>\n",
       "      <th>std</th>\n",
       "      <td>4.569677e+07</td>\n",
       "      <td>651.250248</td>\n",
       "      <td>6.138097</td>\n",
       "      <td>613.639293</td>\n",
       "      <td>0.493514</td>\n",
       "      <td>209.151447</td>\n",
       "      <td>21.510678</td>\n",
       "      <td>215.650185</td>\n",
       "      <td>121.857935</td>\n",
       "      <td>208.976666</td>\n",
       "      <td>111.831431</td>\n",
       "      <td>62.503758</td>\n",
       "      <td>29.758626</td>\n",
       "      <td>1.271577</td>\n",
       "      <td>4.400756</td>\n",
       "    </tr>\n",
       "    <tr>\n",
       "      <th>min</th>\n",
       "      <td>8.170000e+02</td>\n",
       "      <td>1.000000</td>\n",
       "      <td>1.000000</td>\n",
       "      <td>101.000000</td>\n",
       "      <td>1.000000</td>\n",
       "      <td>110.000000</td>\n",
       "      <td>-12.000000</td>\n",
       "      <td>101.000000</td>\n",
       "      <td>101.000000</td>\n",
       "      <td>110.000000</td>\n",
       "      <td>210.000000</td>\n",
       "      <td>310.000000</td>\n",
       "      <td>821.000000</td>\n",
       "      <td>0.000000</td>\n",
       "      <td>-118.766800</td>\n",
       "    </tr>\n",
       "    <tr>\n",
       "      <th>25%</th>\n",
       "      <td>1.620117e+08</td>\n",
       "      <td>900.000000</td>\n",
       "      <td>6.000000</td>\n",
       "      <td>625.000000</td>\n",
       "      <td>1.000000</td>\n",
       "      <td>330.000000</td>\n",
       "      <td>14.000000</td>\n",
       "      <td>102.000000</td>\n",
       "      <td>400.000000</td>\n",
       "      <td>330.000000</td>\n",
       "      <td>998.000000</td>\n",
       "      <td>998.000000</td>\n",
       "      <td>998.000000</td>\n",
       "      <td>34.010900</td>\n",
       "      <td>-118.430500</td>\n",
       "    </tr>\n",
       "    <tr>\n",
       "      <th>50%</th>\n",
       "      <td>2.201122e+08</td>\n",
       "      <td>1425.000000</td>\n",
       "      <td>11.000000</td>\n",
       "      <td>1162.000000</td>\n",
       "      <td>1.000000</td>\n",
       "      <td>442.000000</td>\n",
       "      <td>31.000000</td>\n",
       "      <td>203.000000</td>\n",
       "      <td>400.000000</td>\n",
       "      <td>442.000000</td>\n",
       "      <td>998.000000</td>\n",
       "      <td>998.000000</td>\n",
       "      <td>998.000000</td>\n",
       "      <td>34.059000</td>\n",
       "      <td>-118.320500</td>\n",
       "    </tr>\n",
       "    <tr>\n",
       "      <th>75%</th>\n",
       "      <td>2.311107e+08</td>\n",
       "      <td>1900.000000</td>\n",
       "      <td>16.000000</td>\n",
       "      <td>1655.000000</td>\n",
       "      <td>2.000000</td>\n",
       "      <td>626.000000</td>\n",
       "      <td>45.000000</td>\n",
       "      <td>501.000000</td>\n",
       "      <td>400.000000</td>\n",
       "      <td>626.000000</td>\n",
       "      <td>998.000000</td>\n",
       "      <td>998.000000</td>\n",
       "      <td>998.000000</td>\n",
       "      <td>34.166700</td>\n",
       "      <td>-118.273900</td>\n",
       "    </tr>\n",
       "    <tr>\n",
       "      <th>max</th>\n",
       "      <td>9.102204e+08</td>\n",
       "      <td>2359.000000</td>\n",
       "      <td>21.000000</td>\n",
       "      <td>2198.000000</td>\n",
       "      <td>2.000000</td>\n",
       "      <td>956.000000</td>\n",
       "      <td>99.000000</td>\n",
       "      <td>976.000000</td>\n",
       "      <td>516.000000</td>\n",
       "      <td>956.000000</td>\n",
       "      <td>999.000000</td>\n",
       "      <td>999.000000</td>\n",
       "      <td>999.000000</td>\n",
       "      <td>34.541800</td>\n",
       "      <td>0.000000</td>\n",
       "    </tr>\n",
       "  </tbody>\n",
       "</table>\n",
       "</div>"
      ],
      "text/plain": [
       "              DR_NO       TIME OCC           AREA    Rpt Dist No  \\\n",
       "count  8.629060e+05  862906.000000  862906.000000  862906.000000   \n",
       "mean   1.961506e+08    1345.993386      10.860006    1132.317284   \n",
       "std    4.569677e+07     651.250248       6.138097     613.639293   \n",
       "min    8.170000e+02       1.000000       1.000000     101.000000   \n",
       "25%    1.620117e+08     900.000000       6.000000     625.000000   \n",
       "50%    2.201122e+08    1425.000000      11.000000    1162.000000   \n",
       "75%    2.311107e+08    1900.000000      16.000000    1655.000000   \n",
       "max    9.102204e+08    2359.000000      21.000000    2198.000000   \n",
       "\n",
       "            Part 1-2         Crm Cd       Vict Age      Premis Cd  \\\n",
       "count  862906.000000  862906.000000  862906.000000  862886.000000   \n",
       "mean        1.419721     501.994537      29.941419     309.283723   \n",
       "std         0.493514     209.151447      21.510678     215.650185   \n",
       "min         1.000000     110.000000     -12.000000     101.000000   \n",
       "25%         1.000000     330.000000      14.000000     102.000000   \n",
       "50%         1.000000     442.000000      31.000000     203.000000   \n",
       "75%         2.000000     626.000000      45.000000     501.000000   \n",
       "max         2.000000     956.000000      99.000000     976.000000   \n",
       "\n",
       "       Weapon Used Cd       Crm Cd 1      Crm Cd 2     Crm Cd 3    Crm Cd 4  \\\n",
       "count   299647.000000  862896.000000  58447.000000  1742.000000   57.000000   \n",
       "mean       365.876218     501.778446    957.486697   981.040184  988.508772   \n",
       "std        121.857935     208.976666    111.831431    62.503758   29.758626   \n",
       "min        101.000000     110.000000    210.000000   310.000000  821.000000   \n",
       "25%        400.000000     330.000000    998.000000   998.000000  998.000000   \n",
       "50%        400.000000     442.000000    998.000000   998.000000  998.000000   \n",
       "75%        400.000000     626.000000    998.000000   998.000000  998.000000   \n",
       "max        516.000000     956.000000    999.000000   999.000000  999.000000   \n",
       "\n",
       "                 LAT            LON  \n",
       "count  862906.000000  862906.000000  \n",
       "mean       34.026953    -118.190290  \n",
       "std         1.271577       4.400756  \n",
       "min         0.000000    -118.766800  \n",
       "25%        34.010900    -118.430500  \n",
       "50%        34.059000    -118.320500  \n",
       "75%        34.166700    -118.273900  \n",
       "max        34.541800       0.000000  "
      ]
     },
     "execution_count": 77,
     "metadata": {},
     "output_type": "execute_result"
    }
   ],
   "source": [
    "Crime.describe()"
   ]
  },
  {
   "cell_type": "code",
   "execution_count": 78,
   "id": "4d026c05",
   "metadata": {},
   "outputs": [
    {
     "name": "stdout",
     "output_type": "stream",
     "text": [
      "<class 'pandas.core.frame.DataFrame'>\n",
      "RangeIndex: 862906 entries, 0 to 862905\n",
      "Data columns (total 28 columns):\n",
      " #   Column          Non-Null Count   Dtype  \n",
      "---  ------          --------------   -----  \n",
      " 0   DR_NO           862906 non-null  int64  \n",
      " 1   Date Rptd       862906 non-null  object \n",
      " 2   DATE OCC        862906 non-null  object \n",
      " 3   TIME OCC        862906 non-null  int64  \n",
      " 4   AREA            862906 non-null  int64  \n",
      " 5   AREA NAME       862906 non-null  object \n",
      " 6   Rpt Dist No     862906 non-null  int64  \n",
      " 7   Part 1-2        862906 non-null  int64  \n",
      " 8   Crm Cd          862906 non-null  int64  \n",
      " 9   Crm Cd Desc     862906 non-null  object \n",
      " 10  Mocodes         749241 non-null  object \n",
      " 11  Vict Age        862906 non-null  int64  \n",
      " 12  Vict Sex        757597 non-null  object \n",
      " 13  Vict Descent    757584 non-null  object \n",
      " 14  Premis Cd       862886 non-null  float64\n",
      " 15  Premis Desc     862398 non-null  object \n",
      " 16  Weapon Used Cd  299647 non-null  float64\n",
      " 17  Weapon Desc     299647 non-null  object \n",
      " 18  Status          862905 non-null  object \n",
      " 19  Status Desc     862906 non-null  object \n",
      " 20  Crm Cd 1        862896 non-null  float64\n",
      " 21  Crm Cd 2        58447 non-null   float64\n",
      " 22  Crm Cd 3        1742 non-null    float64\n",
      " 23  Crm Cd 4        57 non-null      float64\n",
      " 24  LOCATION        862906 non-null  object \n",
      " 25  Cross Street    135461 non-null  object \n",
      " 26  LAT             862906 non-null  float64\n",
      " 27  LON             862906 non-null  float64\n",
      "dtypes: float64(8), int64(7), object(13)\n",
      "memory usage: 184.3+ MB\n"
     ]
    }
   ],
   "source": [
    "Crime.info()"
   ]
  },
  {
   "cell_type": "code",
   "execution_count": 79,
   "id": "920c4e98",
   "metadata": {},
   "outputs": [
    {
     "data": {
      "text/plain": [
       "DR_NO                  0\n",
       "Date Rptd              0\n",
       "DATE OCC               0\n",
       "TIME OCC               0\n",
       "AREA                   0\n",
       "AREA NAME              0\n",
       "Rpt Dist No            0\n",
       "Part 1-2               0\n",
       "Crm Cd                 0\n",
       "Crm Cd Desc            0\n",
       "Mocodes           113665\n",
       "Vict Age               0\n",
       "Vict Sex          105309\n",
       "Vict Descent      105322\n",
       "Premis Cd             20\n",
       "Premis Desc          508\n",
       "Weapon Used Cd    563259\n",
       "Weapon Desc       563259\n",
       "Status                 1\n",
       "Status Desc            0\n",
       "Crm Cd 1              10\n",
       "Crm Cd 2          804459\n",
       "Crm Cd 3          861164\n",
       "Crm Cd 4          862849\n",
       "LOCATION               0\n",
       "Cross Street      727445\n",
       "LAT                    0\n",
       "LON                    0\n",
       "dtype: int64"
      ]
     },
     "execution_count": 79,
     "metadata": {},
     "output_type": "execute_result"
    }
   ],
   "source": [
    "#check for missing values\n",
    "\n",
    "Crime.isnull().sum()"
   ]
  },
  {
   "cell_type": "code",
   "execution_count": 82,
   "id": "7a5b5289",
   "metadata": {},
   "outputs": [
    {
     "data": {
      "text/plain": [
       "124959"
      ]
     },
     "execution_count": 82,
     "metadata": {},
     "output_type": "execute_result"
    }
   ],
   "source": [
    "#check for duplicates\n",
    "\n",
    "Crime.duplicated().sum()"
   ]
  },
  {
   "cell_type": "code",
   "execution_count": 83,
   "id": "3a25e011",
   "metadata": {},
   "outputs": [],
   "source": [
    "#drop duplicates\n",
    "\n",
    "Drop_duplicates = Crime.drop_duplicates()"
   ]
  },
  {
   "cell_type": "code",
   "execution_count": 85,
   "id": "53b9c8da",
   "metadata": {},
   "outputs": [
    {
     "data": {
      "text/plain": [
       "0"
      ]
     },
     "execution_count": 85,
     "metadata": {},
     "output_type": "execute_result"
    }
   ],
   "source": [
    "Drop_duplicates.duplicated().sum()"
   ]
  },
  {
   "cell_type": "code",
   "execution_count": 90,
   "id": "0af63bf1",
   "metadata": {},
   "outputs": [],
   "source": [
    "#fill missing values with NAs\n",
    "\n",
    "Drop[\"Status\"].fillna(\"NA\",inplace = True)\n",
    "Drop[\"Mocodes\"].fillna(\"NA\",inplace = True)\n",
    "Drop[\"Vict Sex\"].fillna(\"NA\",inplace = True)\n",
    "Drop[\"Premis Desc\"].fillna(\"NA\",inplace = True)\n",
    "Drop[\"Premis Cd\"].fillna(\"NA\",inplace = True)\n",
    "Drop[\"Weapon Used Cd\"].fillna(\"NA\",inplace = True)\n",
    "Drop[\"Weapon Desc\"].fillna(\"NA\",inplace = True)\n",
    "Drop[\"Weapon Desc\"].fillna(\"NA\",inplace = True)\n",
    "Drop[\"Weapon Desc\"].fillna(\"NA\",inplace = True)\n",
    "Drop[\"Weapon Desc\"].fillna(\"NA\",inplace = True)\n",
    "Drop[\"Crm Cd 4\"].fillna(\"NA\",inplace = True)\n",
    "Drop[\"Crm Cd 3\"].fillna(\"NA\",inplace = True)\n",
    "Drop[\"Crm Cd 2\"].fillna(\"NA\",inplace = True)\n",
    "Drop[\"Crm Cd 1\"].fillna(\"NA\",inplace = True)\n",
    "Drop[\"Cross Street\"].fillna(\"NA\",inplace = True)"
   ]
  },
  {
   "cell_type": "code",
   "execution_count": 91,
   "id": "7f5e5b88",
   "metadata": {
    "scrolled": true
   },
   "outputs": [
    {
     "data": {
      "text/plain": [
       "DR_NO             0\n",
       "Date Rptd         0\n",
       "DATE OCC          0\n",
       "AREA              0\n",
       "AREA NAME         0\n",
       "Rpt Dist No       0\n",
       "Part 1-2          0\n",
       "Crm Cd            0\n",
       "Crm Cd Desc       0\n",
       "Mocodes           0\n",
       "Vict Age          0\n",
       "Vict Sex          0\n",
       "Vict Descent      0\n",
       "Premis Cd         0\n",
       "Premis Desc       0\n",
       "Weapon Used Cd    0\n",
       "Weapon Desc       0\n",
       "Status            0\n",
       "Status Desc       0\n",
       "Crm Cd 1          0\n",
       "Crm Cd 2          0\n",
       "Crm Cd 3          0\n",
       "Crm Cd 4          0\n",
       "LOCATION          0\n",
       "Cross Street      0\n",
       "LAT               0\n",
       "LON               0\n",
       "dtype: int64"
      ]
     },
     "execution_count": 91,
     "metadata": {},
     "output_type": "execute_result"
    }
   ],
   "source": [
    "Drop.isnull().sum()"
   ]
  },
  {
   "cell_type": "code",
   "execution_count": 98,
   "id": "3549d2bf",
   "metadata": {},
   "outputs": [],
   "source": [
    "#drop columns not needed in analysis\n",
    "\n",
    "Drop = Drop.drop(columns=['Crm Cd 1'])"
   ]
  },
  {
   "cell_type": "code",
   "execution_count": 99,
   "id": "1e8f106b",
   "metadata": {},
   "outputs": [],
   "source": [
    "Drop = Drop.drop(columns=['Crm Cd 2'])"
   ]
  },
  {
   "cell_type": "code",
   "execution_count": 100,
   "id": "91429251",
   "metadata": {},
   "outputs": [],
   "source": [
    "Drop = Drop.drop(columns=['Crm Cd 3'])"
   ]
  },
  {
   "cell_type": "code",
   "execution_count": 101,
   "id": "b7f7dbea",
   "metadata": {},
   "outputs": [],
   "source": [
    "Drop = Drop.drop(columns=['Crm Cd 4'])"
   ]
  },
  {
   "cell_type": "code",
   "execution_count": 102,
   "id": "44f14ab9",
   "metadata": {},
   "outputs": [
    {
     "data": {
      "text/plain": [
       "Index(['DR_NO', 'Date Rptd', 'DATE OCC', 'AREA', 'AREA NAME', 'Rpt Dist No',\n",
       "       'Part 1-2', 'Crm Cd', 'Crm Cd Desc', 'Mocodes', 'Vict Age', 'Vict Sex',\n",
       "       'Vict Descent', 'Premis Cd', 'Premis Desc', 'Weapon Used Cd',\n",
       "       'Weapon Desc', 'Status', 'Status Desc', 'LOCATION', 'Cross Street',\n",
       "       'LAT', 'LON'],\n",
       "      dtype='object')"
      ]
     },
     "execution_count": 102,
     "metadata": {},
     "output_type": "execute_result"
    }
   ],
   "source": [
    "Drop.columns"
   ]
  },
  {
   "cell_type": "code",
   "execution_count": 103,
   "id": "e7583d32",
   "metadata": {},
   "outputs": [],
   "source": [
    "#convert date dtype to datetime\n",
    "\n",
    "Drop[[\"DATE OCC\", \"Date Rptd\"]] = dd[[\"DATE OCC\", \"Date Rptd\"]].apply(pd.to_datetime)\n"
   ]
  },
  {
   "cell_type": "code",
   "execution_count": 105,
   "id": "50a5fda7",
   "metadata": {},
   "outputs": [],
   "source": [
    "# removing the values ​​below one for the \"Vict Age\" column\n",
    "Drop.drop(dd[dd['Vict Age'] < 1].index, axis=0, inplace=True)"
   ]
  },
  {
   "cell_type": "code",
   "execution_count": 106,
   "id": "1702f745",
   "metadata": {},
   "outputs": [
    {
     "data": {
      "text/plain": [
       "AREA NAME\n",
       "Central        57481\n",
       "Southwest      48034\n",
       "Hollywood      44921\n",
       "77th Street    41346\n",
       "Southeast      41163\n",
       "Rampart        40164\n",
       "West LA        37039\n",
       "Wilshire       36363\n",
       "Pacific        36052\n",
       "Harbor         35175\n",
       "N Hollywood    34212\n",
       "Hollenbeck     32073\n",
       "Newton         32053\n",
       "Mission        30338\n",
       "Olympic        29968\n",
       "Topanga        29449\n",
       "Northeast      29442\n",
       "Van Nuys       28612\n",
       "West Valley    27436\n",
       "Devonshire     24883\n",
       "Foothill       21743\n",
       "Name: count, dtype: int64"
      ]
     },
     "execution_count": 106,
     "metadata": {},
     "output_type": "execute_result"
    }
   ],
   "source": [
    "#count of area names\n",
    "\n",
    "Drop[\"AREA NAME\"].value_counts()"
   ]
  },
  {
   "cell_type": "code",
   "execution_count": 107,
   "id": "ade048c2",
   "metadata": {},
   "outputs": [
    {
     "data": {
      "text/plain": [
       "Crm Cd Desc\n",
       "VEHICLE - STOLEN                                70530\n",
       "BATTERY - SIMPLE ASSAULT                        62877\n",
       "BURGLARY FROM VEHICLE                           51061\n",
       "BURGLARY                                        47296\n",
       "THEFT OF IDENTITY                               44152\n",
       "                                                ...  \n",
       "FAILURE TO DISPERSE                                 2\n",
       "INCEST (SEXUAL ACTS BETWEEN BLOOD RELATIVES)        2\n",
       "TRAIN WRECKING                                      1\n",
       "DISHONEST EMPLOYEE ATTEMPTED THEFT                  1\n",
       "FIREARMS RESTRAINING ORDER (FIREARMS RO)            1\n",
       "Name: count, Length: 139, dtype: int64"
      ]
     },
     "execution_count": 107,
     "metadata": {},
     "output_type": "execute_result"
    }
   ],
   "source": [
    "Drop[\"Crm Cd Desc\"].value_counts()"
   ]
  },
  {
   "cell_type": "code",
   "execution_count": 108,
   "id": "9f5047d5",
   "metadata": {},
   "outputs": [
    {
     "data": {
      "text/plain": [
       "Status\n",
       "IC    598274\n",
       "AO     73133\n",
       "AA     61941\n",
       "JA      3194\n",
       "JO      1397\n",
       "CC         6\n",
       "NA         1\n",
       "19         1\n",
       "Name: count, dtype: int64"
      ]
     },
     "execution_count": 108,
     "metadata": {},
     "output_type": "execute_result"
    }
   ],
   "source": [
    "Drop[\"Status\"].value_counts()"
   ]
  },
  {
   "cell_type": "code",
   "execution_count": 109,
   "id": "c1b61418",
   "metadata": {},
   "outputs": [
    {
     "data": {
      "text/plain": [
       "Status Desc\n",
       "Invest Cont     598274\n",
       "Adult Other      73133\n",
       "Adult Arrest     61941\n",
       "Juv Arrest        3194\n",
       "Juv Other         1397\n",
       "UNK                  8\n",
       "Name: count, dtype: int64"
      ]
     },
     "execution_count": 109,
     "metadata": {},
     "output_type": "execute_result"
    }
   ],
   "source": [
    "Drop[\"Status Desc\"].value_counts()"
   ]
  },
  {
   "cell_type": "code",
   "execution_count": 110,
   "id": "77968d03",
   "metadata": {},
   "outputs": [
    {
     "data": {
      "text/plain": [
       "LOCATION\n",
       "800 N  ALAMEDA                      ST      1578\n",
       "6TH                          ST             1378\n",
       "7TH                          ST             1344\n",
       "7TH                                         1324\n",
       "10200    SANTA MONICA                 BL    1307\n",
       "                                            ... \n",
       "15500    HUSTON                       ST       1\n",
       "N  DILLON                       ST             1\n",
       "500 W  C                            ST         1\n",
       "1000    CROSBY                       LN        1\n",
       "3600    COLISEUM                     ST        1\n",
       "Name: count, Length: 62632, dtype: int64"
      ]
     },
     "execution_count": 110,
     "metadata": {},
     "output_type": "execute_result"
    }
   ],
   "source": [
    "Drop[\"LOCATION\"].value_counts()"
   ]
  },
  {
   "cell_type": "code",
   "execution_count": 111,
   "id": "6cd117c1",
   "metadata": {},
   "outputs": [
    {
     "data": {
      "text/html": [
       "<div>\n",
       "<style scoped>\n",
       "    .dataframe tbody tr th:only-of-type {\n",
       "        vertical-align: middle;\n",
       "    }\n",
       "\n",
       "    .dataframe tbody tr th {\n",
       "        vertical-align: top;\n",
       "    }\n",
       "\n",
       "    .dataframe thead th {\n",
       "        text-align: right;\n",
       "    }\n",
       "</style>\n",
       "<table border=\"1\" class=\"dataframe\">\n",
       "  <thead>\n",
       "    <tr style=\"text-align: right;\">\n",
       "      <th></th>\n",
       "      <th>Weapon Desc</th>\n",
       "      <th>DR_NO</th>\n",
       "    </tr>\n",
       "  </thead>\n",
       "  <tbody>\n",
       "    <tr>\n",
       "      <th>39</th>\n",
       "      <td>NA</td>\n",
       "      <td>481059</td>\n",
       "    </tr>\n",
       "    <tr>\n",
       "      <th>63</th>\n",
       "      <td>STRONG-ARM (HANDS, FIST, FEET OR BODILY FORCE)</td>\n",
       "      <td>142334</td>\n",
       "    </tr>\n",
       "    <tr>\n",
       "      <th>73</th>\n",
       "      <td>UNKNOWN WEAPON/OTHER WEAPON</td>\n",
       "      <td>26631</td>\n",
       "    </tr>\n",
       "    <tr>\n",
       "      <th>76</th>\n",
       "      <td>VERBAL THREAT</td>\n",
       "      <td>19617</td>\n",
       "    </tr>\n",
       "    <tr>\n",
       "      <th>27</th>\n",
       "      <td>HAND GUN</td>\n",
       "      <td>15318</td>\n",
       "    </tr>\n",
       "    <tr>\n",
       "      <th>...</th>\n",
       "      <td>...</td>\n",
       "      <td>...</td>\n",
       "    </tr>\n",
       "    <tr>\n",
       "      <th>1</th>\n",
       "      <td>ANTIQUE FIREARM</td>\n",
       "      <td>10</td>\n",
       "    </tr>\n",
       "    <tr>\n",
       "      <th>47</th>\n",
       "      <td>RELIC FIREARM</td>\n",
       "      <td>9</td>\n",
       "    </tr>\n",
       "    <tr>\n",
       "      <th>38</th>\n",
       "      <td>MARTIAL ARTS WEAPONS</td>\n",
       "      <td>6</td>\n",
       "    </tr>\n",
       "    <tr>\n",
       "      <th>28</th>\n",
       "      <td>HECKLER &amp; KOCH 91 SEMIAUTOMATIC ASSAULT RIFLE</td>\n",
       "      <td>2</td>\n",
       "    </tr>\n",
       "    <tr>\n",
       "      <th>35</th>\n",
       "      <td>MAC-10 SEMIAUTOMATIC ASSAULT WEAPON</td>\n",
       "      <td>2</td>\n",
       "    </tr>\n",
       "  </tbody>\n",
       "</table>\n",
       "<p>77 rows × 2 columns</p>\n",
       "</div>"
      ],
      "text/plain": [
       "                                       Weapon Desc   DR_NO\n",
       "39                                              NA  481059\n",
       "63  STRONG-ARM (HANDS, FIST, FEET OR BODILY FORCE)  142334\n",
       "73                     UNKNOWN WEAPON/OTHER WEAPON   26631\n",
       "76                                   VERBAL THREAT   19617\n",
       "27                                        HAND GUN   15318\n",
       "..                                             ...     ...\n",
       "1                                  ANTIQUE FIREARM      10\n",
       "47                                   RELIC FIREARM       9\n",
       "38                            MARTIAL ARTS WEAPONS       6\n",
       "28   HECKLER & KOCH 91 SEMIAUTOMATIC ASSAULT RIFLE       2\n",
       "35             MAC-10 SEMIAUTOMATIC ASSAULT WEAPON       2\n",
       "\n",
       "[77 rows x 2 columns]"
      ]
     },
     "execution_count": 111,
     "metadata": {},
     "output_type": "execute_result"
    }
   ],
   "source": [
    "Drop.groupby(['Weapon Desc'])['DR_NO'].count().reset_index().sort_values(by='DR_NO', ascending=False)"
   ]
  },
  {
   "cell_type": "code",
   "execution_count": 112,
   "id": "8102ae86",
   "metadata": {},
   "outputs": [
    {
     "data": {
      "text/html": [
       "<div>\n",
       "<style scoped>\n",
       "    .dataframe tbody tr th:only-of-type {\n",
       "        vertical-align: middle;\n",
       "    }\n",
       "\n",
       "    .dataframe tbody tr th {\n",
       "        vertical-align: top;\n",
       "    }\n",
       "\n",
       "    .dataframe thead th {\n",
       "        text-align: right;\n",
       "    }\n",
       "</style>\n",
       "<table border=\"1\" class=\"dataframe\">\n",
       "  <thead>\n",
       "    <tr style=\"text-align: right;\">\n",
       "      <th></th>\n",
       "      <th>Vict Sex</th>\n",
       "      <th>DR_NO</th>\n",
       "    </tr>\n",
       "  </thead>\n",
       "  <tbody>\n",
       "    <tr>\n",
       "      <th>3</th>\n",
       "      <td>M</td>\n",
       "      <td>312759</td>\n",
       "    </tr>\n",
       "    <tr>\n",
       "      <th>1</th>\n",
       "      <td>F</td>\n",
       "      <td>284037</td>\n",
       "    </tr>\n",
       "    <tr>\n",
       "      <th>4</th>\n",
       "      <td>NA</td>\n",
       "      <td>87087</td>\n",
       "    </tr>\n",
       "    <tr>\n",
       "      <th>5</th>\n",
       "      <td>X</td>\n",
       "      <td>54013</td>\n",
       "    </tr>\n",
       "    <tr>\n",
       "      <th>2</th>\n",
       "      <td>H</td>\n",
       "      <td>49</td>\n",
       "    </tr>\n",
       "    <tr>\n",
       "      <th>0</th>\n",
       "      <td>-</td>\n",
       "      <td>2</td>\n",
       "    </tr>\n",
       "  </tbody>\n",
       "</table>\n",
       "</div>"
      ],
      "text/plain": [
       "  Vict Sex   DR_NO\n",
       "3        M  312759\n",
       "1        F  284037\n",
       "4       NA   87087\n",
       "5        X   54013\n",
       "2        H      49\n",
       "0        -       2"
      ]
     },
     "execution_count": 112,
     "metadata": {},
     "output_type": "execute_result"
    }
   ],
   "source": [
    "Drop.groupby(['Vict Sex'])['DR_NO'].count().reset_index().sort_values(by='DR_NO', ascending=False)"
   ]
  },
  {
   "cell_type": "code",
   "execution_count": 113,
   "id": "4f695944",
   "metadata": {},
   "outputs": [
    {
     "data": {
      "text/html": [
       "<div>\n",
       "<style scoped>\n",
       "    .dataframe tbody tr th:only-of-type {\n",
       "        vertical-align: middle;\n",
       "    }\n",
       "\n",
       "    .dataframe tbody tr th {\n",
       "        vertical-align: top;\n",
       "    }\n",
       "\n",
       "    .dataframe thead th {\n",
       "        text-align: right;\n",
       "    }\n",
       "</style>\n",
       "<table border=\"1\" class=\"dataframe\">\n",
       "  <thead>\n",
       "    <tr style=\"text-align: right;\">\n",
       "      <th></th>\n",
       "      <th>AREA NAME</th>\n",
       "      <th>Weapon Desc</th>\n",
       "      <th>LOCATION</th>\n",
       "    </tr>\n",
       "  </thead>\n",
       "  <tbody>\n",
       "    <tr>\n",
       "      <th>0</th>\n",
       "      <td>Southwest</td>\n",
       "      <td>STRONG-ARM (HANDS, FIST, FEET OR BODILY FORCE)</td>\n",
       "      <td>1100 W  39TH                         PL</td>\n",
       "    </tr>\n",
       "    <tr>\n",
       "      <th>1</th>\n",
       "      <td>Central</td>\n",
       "      <td>UNKNOWN WEAPON/OTHER WEAPON</td>\n",
       "      <td>700 S  HILL                         ST</td>\n",
       "    </tr>\n",
       "    <tr>\n",
       "      <th>2</th>\n",
       "      <td>Central</td>\n",
       "      <td>NA</td>\n",
       "      <td>200 E  6TH                          ST</td>\n",
       "    </tr>\n",
       "    <tr>\n",
       "      <th>3</th>\n",
       "      <td>N Hollywood</td>\n",
       "      <td>NA</td>\n",
       "      <td>5400    CORTEEN                      PL</td>\n",
       "    </tr>\n",
       "    <tr>\n",
       "      <th>4</th>\n",
       "      <td>Mission</td>\n",
       "      <td>NA</td>\n",
       "      <td>14400    TITUS                        ST</td>\n",
       "    </tr>\n",
       "    <tr>\n",
       "      <th>...</th>\n",
       "      <td>...</td>\n",
       "      <td>...</td>\n",
       "      <td>...</td>\n",
       "    </tr>\n",
       "    <tr>\n",
       "      <th>862895</th>\n",
       "      <td>West LA</td>\n",
       "      <td>NA</td>\n",
       "      <td>2000 S  HOLT                         AV</td>\n",
       "    </tr>\n",
       "    <tr>\n",
       "      <th>862897</th>\n",
       "      <td>West LA</td>\n",
       "      <td>NA</td>\n",
       "      <td>10200    SANTA MONICA                 BL</td>\n",
       "    </tr>\n",
       "    <tr>\n",
       "      <th>862903</th>\n",
       "      <td>Central</td>\n",
       "      <td>NA</td>\n",
       "      <td>500 S  MAIN                         ST</td>\n",
       "    </tr>\n",
       "    <tr>\n",
       "      <th>862904</th>\n",
       "      <td>Van Nuys</td>\n",
       "      <td>NA</td>\n",
       "      <td>14500    HARTLAND                     ST</td>\n",
       "    </tr>\n",
       "    <tr>\n",
       "      <th>862905</th>\n",
       "      <td>Southwest</td>\n",
       "      <td>NA</td>\n",
       "      <td>4100 S  HOBART                       BL</td>\n",
       "    </tr>\n",
       "  </tbody>\n",
       "</table>\n",
       "<p>737947 rows × 3 columns</p>\n",
       "</div>"
      ],
      "text/plain": [
       "          AREA NAME                                     Weapon Desc  \\\n",
       "0         Southwest  STRONG-ARM (HANDS, FIST, FEET OR BODILY FORCE)   \n",
       "1           Central                     UNKNOWN WEAPON/OTHER WEAPON   \n",
       "2           Central                                              NA   \n",
       "3       N Hollywood                                              NA   \n",
       "4           Mission                                              NA   \n",
       "...             ...                                             ...   \n",
       "862895      West LA                                              NA   \n",
       "862897      West LA                                              NA   \n",
       "862903      Central                                              NA   \n",
       "862904     Van Nuys                                              NA   \n",
       "862905    Southwest                                              NA   \n",
       "\n",
       "                                        LOCATION  \n",
       "0        1100 W  39TH                         PL  \n",
       "1         700 S  HILL                         ST  \n",
       "2         200 E  6TH                          ST  \n",
       "3        5400    CORTEEN                      PL  \n",
       "4       14400    TITUS                        ST  \n",
       "...                                          ...  \n",
       "862895   2000 S  HOLT                         AV  \n",
       "862897  10200    SANTA MONICA                 BL  \n",
       "862903    500 S  MAIN                         ST  \n",
       "862904  14500    HARTLAND                     ST  \n",
       "862905   4100 S  HOBART                       BL  \n",
       "\n",
       "[737947 rows x 3 columns]"
      ]
     },
     "execution_count": 113,
     "metadata": {},
     "output_type": "execute_result"
    }
   ],
   "source": [
    "Drop[[\"AREA NAME\",\"Weapon Desc\", \"LOCATION\"]]"
   ]
  },
  {
   "cell_type": "code",
   "execution_count": 114,
   "id": "640d4b8f",
   "metadata": {},
   "outputs": [
    {
     "data": {
      "text/plain": [
       "30.0"
      ]
     },
     "execution_count": 114,
     "metadata": {},
     "output_type": "execute_result"
    }
   ],
   "source": [
    "round(Drop[\"Vict Age\"].mean(),0)"
   ]
  },
  {
   "cell_type": "code",
   "execution_count": 117,
   "id": "966d56fa",
   "metadata": {},
   "outputs": [
    {
     "data": {
      "text/html": [
       "<div>\n",
       "<style scoped>\n",
       "    .dataframe tbody tr th:only-of-type {\n",
       "        vertical-align: middle;\n",
       "    }\n",
       "\n",
       "    .dataframe tbody tr th {\n",
       "        vertical-align: top;\n",
       "    }\n",
       "\n",
       "    .dataframe thead th {\n",
       "        text-align: right;\n",
       "    }\n",
       "</style>\n",
       "<table border=\"1\" class=\"dataframe\">\n",
       "  <thead>\n",
       "    <tr style=\"text-align: right;\">\n",
       "      <th></th>\n",
       "      <th>DR_NO</th>\n",
       "      <th>Date Rptd</th>\n",
       "      <th>DATE OCC</th>\n",
       "      <th>AREA</th>\n",
       "      <th>AREA NAME</th>\n",
       "      <th>Rpt Dist No</th>\n",
       "      <th>Part 1-2</th>\n",
       "      <th>Crm Cd</th>\n",
       "      <th>Crm Cd Desc</th>\n",
       "      <th>Mocodes</th>\n",
       "      <th>...</th>\n",
       "      <th>Premis Cd</th>\n",
       "      <th>Premis Desc</th>\n",
       "      <th>Weapon Used Cd</th>\n",
       "      <th>Weapon Desc</th>\n",
       "      <th>Status</th>\n",
       "      <th>Status Desc</th>\n",
       "      <th>LOCATION</th>\n",
       "      <th>Cross Street</th>\n",
       "      <th>LAT</th>\n",
       "      <th>LON</th>\n",
       "    </tr>\n",
       "  </thead>\n",
       "  <tbody>\n",
       "    <tr>\n",
       "      <th>0</th>\n",
       "      <td>10304468</td>\n",
       "      <td>2020-01-08</td>\n",
       "      <td>2020-01-08</td>\n",
       "      <td>3</td>\n",
       "      <td>Southwest</td>\n",
       "      <td>377</td>\n",
       "      <td>2</td>\n",
       "      <td>624</td>\n",
       "      <td>BATTERY - SIMPLE ASSAULT</td>\n",
       "      <td>0444 0913</td>\n",
       "      <td>...</td>\n",
       "      <td>501.0</td>\n",
       "      <td>SINGLE FAMILY DWELLING</td>\n",
       "      <td>400.0</td>\n",
       "      <td>STRONG-ARM (HANDS, FIST, FEET OR BODILY FORCE)</td>\n",
       "      <td>AO</td>\n",
       "      <td>Adult Other</td>\n",
       "      <td>1100 W  39TH                         PL</td>\n",
       "      <td>NA</td>\n",
       "      <td>34.0141</td>\n",
       "      <td>-118.2978</td>\n",
       "    </tr>\n",
       "    <tr>\n",
       "      <th>1</th>\n",
       "      <td>190101086</td>\n",
       "      <td>2020-01-02</td>\n",
       "      <td>2020-01-01</td>\n",
       "      <td>1</td>\n",
       "      <td>Central</td>\n",
       "      <td>163</td>\n",
       "      <td>2</td>\n",
       "      <td>624</td>\n",
       "      <td>BATTERY - SIMPLE ASSAULT</td>\n",
       "      <td>0416 1822 1414</td>\n",
       "      <td>...</td>\n",
       "      <td>102.0</td>\n",
       "      <td>SIDEWALK</td>\n",
       "      <td>500.0</td>\n",
       "      <td>UNKNOWN WEAPON/OTHER WEAPON</td>\n",
       "      <td>IC</td>\n",
       "      <td>Invest Cont</td>\n",
       "      <td>700 S  HILL                         ST</td>\n",
       "      <td>NA</td>\n",
       "      <td>34.0459</td>\n",
       "      <td>-118.2545</td>\n",
       "    </tr>\n",
       "  </tbody>\n",
       "</table>\n",
       "<p>2 rows × 23 columns</p>\n",
       "</div>"
      ],
      "text/plain": [
       "       DR_NO  Date Rptd   DATE OCC  AREA  AREA NAME  Rpt Dist No  Part 1-2  \\\n",
       "0   10304468 2020-01-08 2020-01-08     3  Southwest          377         2   \n",
       "1  190101086 2020-01-02 2020-01-01     1    Central          163         2   \n",
       "\n",
       "   Crm Cd               Crm Cd Desc         Mocodes  ...  Premis Cd  \\\n",
       "0     624  BATTERY - SIMPLE ASSAULT       0444 0913  ...      501.0   \n",
       "1     624  BATTERY - SIMPLE ASSAULT  0416 1822 1414  ...      102.0   \n",
       "\n",
       "              Premis Desc Weapon Used Cd  \\\n",
       "0  SINGLE FAMILY DWELLING          400.0   \n",
       "1                SIDEWALK          500.0   \n",
       "\n",
       "                                      Weapon Desc Status  Status Desc  \\\n",
       "0  STRONG-ARM (HANDS, FIST, FEET OR BODILY FORCE)     AO  Adult Other   \n",
       "1                     UNKNOWN WEAPON/OTHER WEAPON     IC  Invest Cont   \n",
       "\n",
       "                                  LOCATION Cross Street      LAT       LON  \n",
       "0  1100 W  39TH                         PL           NA  34.0141 -118.2978  \n",
       "1   700 S  HILL                         ST           NA  34.0459 -118.2545  \n",
       "\n",
       "[2 rows x 23 columns]"
      ]
     },
     "execution_count": 117,
     "metadata": {},
     "output_type": "execute_result"
    }
   ],
   "source": [
    "Data = Drop\n",
    "Data.head(2)"
   ]
  },
  {
   "cell_type": "code",
   "execution_count": 120,
   "id": "f2ce421b",
   "metadata": {
    "scrolled": true
   },
   "outputs": [],
   "source": [
    "import csv\n",
    "Data.to_csv(\"C:/Users/USER/Downloads.csv\")"
   ]
  },
  {
   "cell_type": "code",
   "execution_count": 67,
   "id": "c04b84a6",
   "metadata": {},
   "outputs": [
    {
     "data": {
      "image/png": "[encoded data removed]",
      "text/plain": [
       "<Figure size 700x500 with 1 Axes>"
      ]
     },
     "metadata": {},
     "output_type": "display_data"
    }
   ],
   "source": [
    "plt.figure(figsize = (7, 5))\n",
    "dd.groupby(['Vict Sex'])['Vict Age'].sum().plot()\n",
    "plt.ylabel('Age', size=10)\n",
    "plt.show()"
   ]
  },
  {
   "cell_type": "code",
   "execution_count": 68,
   "id": "c8ddd2d7",
   "metadata": {},
   "outputs": [
    {
     "data": {
      "image/png": "[encoded data removed]",
      "text/plain": [
       "<Figure size 2000x900 with 1 Axes>"
      ]
     },
     "metadata": {},
     "output_type": "display_data"
    }
   ],
   "source": [
    "#histogram visuals for products\n",
    "\n",
    "plt.figure(figsize = (20, 9))\n",
    "plt.hist(dd['Vict Sex'])\n",
    "plt.title('Sex Count')\n",
    "plt.show()"
   ]
  },
  {
   "cell_type": "code",
   "execution_count": 69,
   "id": "96f49e02",
   "metadata": {},
   "outputs": [
    {
     "data": {
      "image/png": "[encoded data removed]",
      "text/plain": [
       "<Figure size 1000x500 with 1 Axes>"
      ]
     },
     "metadata": {},
     "output_type": "display_data"
    }
   ],
   "source": [
    "dd[\"Status Desc\"].value_counts().plot(kind='bar', figsize=(10,5))\n",
    "plt.title(\"Desc\")\n",
    "plt.ylabel('Number of cars')\n",
    "plt.xlabel('Make');"
   ]
  },
  {
   "cell_type": "code",
   "execution_count": 71,
   "id": "32bb56ff",
   "metadata": {},
   "outputs": [
    {
     "ename": "KeyError",
     "evalue": "'Low'",
     "output_type": "error",
     "traceback": [
      "\u001b[1;31m---------------------------------------------------------------------------\u001b[0m",
      "\u001b[1;31mKeyError\u001b[0m                                  Traceback (most recent call last)",
      "File \u001b[1;32mC:\\Program Files\\anaconda\\Lib\\site-packages\\pandas\\core\\indexes\\base.py:3653\u001b[0m, in \u001b[0;36mIndex.get_loc\u001b[1;34m(self, key)\u001b[0m\n\u001b[0;32m   3652\u001b[0m \u001b[38;5;28;01mtry\u001b[39;00m:\n\u001b[1;32m-> 3653\u001b[0m     \u001b[38;5;28;01mreturn\u001b[39;00m \u001b[38;5;28mself\u001b[39m\u001b[38;5;241m.\u001b[39m_engine\u001b[38;5;241m.\u001b[39mget_loc(casted_key)\n\u001b[0;32m   3654\u001b[0m \u001b[38;5;28;01mexcept\u001b[39;00m \u001b[38;5;167;01mKeyError\u001b[39;00m \u001b[38;5;28;01mas\u001b[39;00m err:\n",
      "File \u001b[1;32mC:\\Program Files\\anaconda\\Lib\\site-packages\\pandas\\_libs\\index.pyx:147\u001b[0m, in \u001b[0;36mpandas._libs.index.IndexEngine.get_loc\u001b[1;34m()\u001b[0m\n",
      "File \u001b[1;32mC:\\Program Files\\anaconda\\Lib\\site-packages\\pandas\\_libs\\index.pyx:176\u001b[0m, in \u001b[0;36mpandas._libs.index.IndexEngine.get_loc\u001b[1;34m()\u001b[0m\n",
      "File \u001b[1;32mpandas\\_libs\\hashtable_class_helper.pxi:7080\u001b[0m, in \u001b[0;36mpandas._libs.hashtable.PyObjectHashTable.get_item\u001b[1;34m()\u001b[0m\n",
      "File \u001b[1;32mpandas\\_libs\\hashtable_class_helper.pxi:7088\u001b[0m, in \u001b[0;36mpandas._libs.hashtable.PyObjectHashTable.get_item\u001b[1;34m()\u001b[0m\n",
      "\u001b[1;31mKeyError\u001b[0m: 'Low'",
      "\nThe above exception was the direct cause of the following exception:\n",
      "\u001b[1;31mKeyError\u001b[0m                                  Traceback (most recent call last)",
      "Cell \u001b[1;32mIn[71], line 4\u001b[0m\n\u001b[0;32m      2\u001b[0m \u001b[38;5;66;03m# Add data items to the chart\u001b[39;00m\n\u001b[0;32m      3\u001b[0m ax\u001b[38;5;241m.\u001b[39mplot(dd[\u001b[38;5;124m'\u001b[39m\u001b[38;5;124mDate Rptd\u001b[39m\u001b[38;5;124m'\u001b[39m], dd[\u001b[38;5;124m'\u001b[39m\u001b[38;5;124mStatus\u001b[39m\u001b[38;5;124m'\u001b[39m],label\u001b[38;5;241m=\u001b[39m\u001b[38;5;124m'\u001b[39m\u001b[38;5;124mHigh\u001b[39m\u001b[38;5;124m'\u001b[39m)\n\u001b[1;32m----> 4\u001b[0m ax\u001b[38;5;241m.\u001b[39mplot(dd[\u001b[38;5;124m'\u001b[39m\u001b[38;5;124mDATE OCC\u001b[39m\u001b[38;5;124m'\u001b[39m], dd[\u001b[38;5;124m'\u001b[39m\u001b[38;5;124mLow\u001b[39m\u001b[38;5;124m'\u001b[39m], color\u001b[38;5;241m=\u001b[39mc3, label\u001b[38;5;241m=\u001b[39m\u001b[38;5;124m'\u001b[39m\u001b[38;5;124mLow\u001b[39m\u001b[38;5;124m'\u001b[39m)\n\u001b[0;32m      6\u001b[0m \u001b[38;5;66;03m# Add formatting options and titles\u001b[39;00m\n\u001b[0;32m      7\u001b[0m ax\u001b[38;5;241m.\u001b[39mset(title\u001b[38;5;241m=\u001b[39m\u001b[38;5;124m'\u001b[39m\u001b[38;5;124mApple Stock Price\u001b[39m\u001b[38;5;124m'\u001b[39m, xlabel\u001b[38;5;241m=\u001b[39m\u001b[38;5;124m'\u001b[39m\u001b[38;5;124mDate\u001b[39m\u001b[38;5;124m'\u001b[39m, ylabel\u001b[38;5;241m=\u001b[39m\u001b[38;5;124m'\u001b[39m\u001b[38;5;124mPrice\u001b[39m\u001b[38;5;124m'\u001b[39m)\n",
      "File \u001b[1;32mC:\\Program Files\\anaconda\\Lib\\site-packages\\pandas\\core\\frame.py:3761\u001b[0m, in \u001b[0;36mDataFrame.__getitem__\u001b[1;34m(self, key)\u001b[0m\n\u001b[0;32m   3759\u001b[0m \u001b[38;5;28;01mif\u001b[39;00m \u001b[38;5;28mself\u001b[39m\u001b[38;5;241m.\u001b[39mcolumns\u001b[38;5;241m.\u001b[39mnlevels \u001b[38;5;241m>\u001b[39m \u001b[38;5;241m1\u001b[39m:\n\u001b[0;32m   3760\u001b[0m     \u001b[38;5;28;01mreturn\u001b[39;00m \u001b[38;5;28mself\u001b[39m\u001b[38;5;241m.\u001b[39m_getitem_multilevel(key)\n\u001b[1;32m-> 3761\u001b[0m indexer \u001b[38;5;241m=\u001b[39m \u001b[38;5;28mself\u001b[39m\u001b[38;5;241m.\u001b[39mcolumns\u001b[38;5;241m.\u001b[39mget_loc(key)\n\u001b[0;32m   3762\u001b[0m \u001b[38;5;28;01mif\u001b[39;00m is_integer(indexer):\n\u001b[0;32m   3763\u001b[0m     indexer \u001b[38;5;241m=\u001b[39m [indexer]\n",
      "File \u001b[1;32mC:\\Program Files\\anaconda\\Lib\\site-packages\\pandas\\core\\indexes\\base.py:3655\u001b[0m, in \u001b[0;36mIndex.get_loc\u001b[1;34m(self, key)\u001b[0m\n\u001b[0;32m   3653\u001b[0m     \u001b[38;5;28;01mreturn\u001b[39;00m \u001b[38;5;28mself\u001b[39m\u001b[38;5;241m.\u001b[39m_engine\u001b[38;5;241m.\u001b[39mget_loc(casted_key)\n\u001b[0;32m   3654\u001b[0m \u001b[38;5;28;01mexcept\u001b[39;00m \u001b[38;5;167;01mKeyError\u001b[39;00m \u001b[38;5;28;01mas\u001b[39;00m err:\n\u001b[1;32m-> 3655\u001b[0m     \u001b[38;5;28;01mraise\u001b[39;00m \u001b[38;5;167;01mKeyError\u001b[39;00m(key) \u001b[38;5;28;01mfrom\u001b[39;00m \u001b[38;5;21;01merr\u001b[39;00m\n\u001b[0;32m   3656\u001b[0m \u001b[38;5;28;01mexcept\u001b[39;00m \u001b[38;5;167;01mTypeError\u001b[39;00m:\n\u001b[0;32m   3657\u001b[0m     \u001b[38;5;66;03m# If we have a listlike key, _check_indexing_error will raise\u001b[39;00m\n\u001b[0;32m   3658\u001b[0m     \u001b[38;5;66;03m#  InvalidIndexError. Otherwise we fall through and re-raise\u001b[39;00m\n\u001b[0;32m   3659\u001b[0m     \u001b[38;5;66;03m#  the TypeError.\u001b[39;00m\n\u001b[0;32m   3660\u001b[0m     \u001b[38;5;28mself\u001b[39m\u001b[38;5;241m.\u001b[39m_check_indexing_error(key)\n",
      "\u001b[1;31mKeyError\u001b[0m: 'Low'"
     ]
    },
    {
     "data": {
      "image/png": "[encoded data removed]",
      "text/plain": [
       "<Figure size 800x400 with 1 Axes>"
      ]
     },
     "metadata": {},
     "output_type": "display_data"
    }
   ],
   "source": [
    "fig, ax = plt.subplots(figsize=(8,4), ncols=1, nrows=1)\n",
    "# Add data items to the chart\n",
    "ax.plot(dd['Date Rptd'], dd['Status'],label='High')\n",
    "ax.plot(dd['DATE OCC'], dd['Low'], color=c3, label='Low')\n",
    "\n",
    "# Add formatting options and titles\n",
    "ax.set(title='Apple Stock Price', xlabel='Date', ylabel='Price')\n",
    "ax.legend(loc='center left', bbox_to_anchor=(1, 0.5))\n",
    "plt.show()"
   ]
  },
  {
   "cell_type": "raw",
   "id": "c06e1bc5",
   "metadata": {},
   "source": [
    "create a column in the data base and quarter the dates."
   ]
  },
  {
   "cell_type": "code",
   "execution_count": 77,
   "id": "19b3d3a4",
   "metadata": {},
   "outputs": [
    {
     "data": {
      "text/plain": [
       "Index(['DR_NO', 'Date Rptd', 'DATE OCC', 'AREA', 'AREA NAME', 'Rpt Dist No',\n",
       "       'Part 1-2', 'Crm Cd', 'Crm Cd Desc', 'Mocodes', 'Vict Age', 'Vict Sex',\n",
       "       'Vict Descent', 'Premis Cd', 'Premis Desc', 'Weapon Used Cd',\n",
       "       'Weapon Desc', 'Status', 'Status Desc', 'Crm Cd 1', 'Crm Cd 2',\n",
       "       'Crm Cd 3', 'Crm Cd 4', 'LOCATION', 'Cross Street', 'LAT', 'LON'],\n",
       "      dtype='object')"
      ]
     },
     "execution_count": 77,
     "metadata": {},
     "output_type": "execute_result"
    }
   ],
   "source": [
    "dd.columns"
   ]
  },
  {
   "cell_type": "code",
   "execution_count": null,
   "id": "39ff253e",
   "metadata": {},
   "outputs": [],
   "source": []
  },
  {
   "cell_type": "code",
   "execution_count": null,
   "id": "a8524a2d",
   "metadata": {},
   "outputs": [],
   "source": []
  },
  {
   "cell_type": "code",
   "execution_count": null,
   "id": "49dd52ef",
   "metadata": {},
   "outputs": [],
   "source": []
  },
  {
   "cell_type": "code",
   "execution_count": null,
   "id": "58c87a10",
   "metadata": {},
   "outputs": [],
   "source": []
  },
  {
   "cell_type": "markdown",
   "id": "ba8e8eb6",
   "metadata": {},
   "source": [
    "# clean data...empty rows,incosistencies, time, data, crreate needed columns,delete needed columns,check each column. delete cmds,take awa the time in daterptd and date occ,make time occ time,"
   ]
  },
  {
   "cell_type": "code",
   "execution_count": 30,
   "id": "b5a3f178",
   "metadata": {},
   "outputs": [],
   "source": [
    "df"
   ]
  }
 ],
 "metadata": {
  "kernelspec": {
   "display_name": "Python 3 (ipykernel)",
   "language": "python",
   "name": "python3"
  },
  "language_info": {
   "codemirror_mode": {
    "name": "ipython",
    "version": 3
   },
   "file_extension": ".py",
   "mimetype": "text/x-python",
   "name": "python",
   "nbconvert_exporter": "python",
   "pygments_lexer": "ipython3",
   "version": "3.11.5"
  }
 },
 "nbformat": 4,
 "nbformat_minor": 5
}
