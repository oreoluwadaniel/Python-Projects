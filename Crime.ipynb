{
 "cells": [
  {
   "cell_type": "code",
   "execution_count": 3,
   "id": "411d0832",
   "metadata": {},
   "outputs": [],
   "source": [
    "import warnings\n",
    "\n",
    "# To ignore all warnings\n",
    "warnings.filterwarnings('ignore')\n",
    "\n",
    "# Or, to ignore specific types of warnings\n",
    "# For example, to ignore FutureWarning\n",
    "warnings.filterwarnings('ignore', category=FutureWarning)"
   ]
  },
  {
   "cell_type": "code",
   "execution_count": 4,
   "id": "b2c6d914",
   "metadata": {},
   "outputs": [],
   "source": [
    "import pandas as pd\n",
    "import matplotlib.pyplot as plt\n",
    "import seaborn as sns\n",
    "import numpy as np\n",
    "from scipy.stats import norm\n",
    "from sklearn.preprocessing import StandardScaler\n",
    "from scipy import stats\n",
    "import warnings\n",
    "%matplotlib inline\n",
    "import os\n",
    "from sklearn.impute import SimpleImputer"
   ]
  },
  {
   "cell_type": "code",
   "execution_count": 5,
   "id": "3e3dd0eb",
   "metadata": {},
   "outputs": [
    {
     "name": "stdout",
     "output_type": "stream",
     "text": [
      "C:\\Users\\USER\n",
      "C:\\Users\\USER\\Downloads\n"
     ]
    }
   ],
   "source": [
    "path = os.getcwd()\n",
    "print(path)\n",
    "os.chdir(\"C:/Users/USER/Downloads\")\n",
    "print(os.getcwd())"
   ]
  },
  {
   "cell_type": "code",
   "execution_count": 6,
   "id": "375e161e",
   "metadata": {},
   "outputs": [
    {
     "data": {
      "text/html": [
       "<div>\n",
       "<style scoped>\n",
       "    .dataframe tbody tr th:only-of-type {\n",
       "        vertical-align: middle;\n",
       "    }\n",
       "\n",
       "    .dataframe tbody tr th {\n",
       "        vertical-align: top;\n",
       "    }\n",
       "\n",
       "    .dataframe thead th {\n",
       "        text-align: right;\n",
       "    }\n",
       "</style>\n",
       "<table border=\"1\" class=\"dataframe\">\n",
       "  <thead>\n",
       "    <tr style=\"text-align: right;\">\n",
       "      <th></th>\n",
       "      <th>DR_NO</th>\n",
       "      <th>Date Rptd</th>\n",
       "      <th>DATE OCC</th>\n",
       "      <th>TIME OCC</th>\n",
       "      <th>AREA</th>\n",
       "      <th>AREA NAME</th>\n",
       "      <th>Rpt Dist No</th>\n",
       "      <th>Part 1-2</th>\n",
       "      <th>Crm Cd</th>\n",
       "      <th>Crm Cd Desc</th>\n",
       "      <th>...</th>\n",
       "      <th>Status</th>\n",
       "      <th>Status Desc</th>\n",
       "      <th>Crm Cd 1</th>\n",
       "      <th>Crm Cd 2</th>\n",
       "      <th>Crm Cd 3</th>\n",
       "      <th>Crm Cd 4</th>\n",
       "      <th>LOCATION</th>\n",
       "      <th>Cross Street</th>\n",
       "      <th>LAT</th>\n",
       "      <th>LON</th>\n",
       "    </tr>\n",
       "  </thead>\n",
       "  <tbody>\n",
       "    <tr>\n",
       "      <th>0</th>\n",
       "      <td>10304468</td>\n",
       "      <td>01/08/2020 12:00:00 AM</td>\n",
       "      <td>01/08/2020 12:00:00 AM</td>\n",
       "      <td>2230</td>\n",
       "      <td>3</td>\n",
       "      <td>Southwest</td>\n",
       "      <td>377</td>\n",
       "      <td>2</td>\n",
       "      <td>624</td>\n",
       "      <td>BATTERY - SIMPLE ASSAULT</td>\n",
       "      <td>...</td>\n",
       "      <td>AO</td>\n",
       "      <td>Adult Other</td>\n",
       "      <td>624.0</td>\n",
       "      <td>NaN</td>\n",
       "      <td>NaN</td>\n",
       "      <td>NaN</td>\n",
       "      <td>1100 W  39TH                         PL</td>\n",
       "      <td>NaN</td>\n",
       "      <td>34.0141</td>\n",
       "      <td>-118.2978</td>\n",
       "    </tr>\n",
       "    <tr>\n",
       "      <th>1</th>\n",
       "      <td>190101086</td>\n",
       "      <td>01/02/2020 12:00:00 AM</td>\n",
       "      <td>01/01/2020 12:00:00 AM</td>\n",
       "      <td>330</td>\n",
       "      <td>1</td>\n",
       "      <td>Central</td>\n",
       "      <td>163</td>\n",
       "      <td>2</td>\n",
       "      <td>624</td>\n",
       "      <td>BATTERY - SIMPLE ASSAULT</td>\n",
       "      <td>...</td>\n",
       "      <td>IC</td>\n",
       "      <td>Invest Cont</td>\n",
       "      <td>624.0</td>\n",
       "      <td>NaN</td>\n",
       "      <td>NaN</td>\n",
       "      <td>NaN</td>\n",
       "      <td>700 S  HILL                         ST</td>\n",
       "      <td>NaN</td>\n",
       "      <td>34.0459</td>\n",
       "      <td>-118.2545</td>\n",
       "    </tr>\n",
       "    <tr>\n",
       "      <th>2</th>\n",
       "      <td>200110444</td>\n",
       "      <td>04/14/2020 12:00:00 AM</td>\n",
       "      <td>02/13/2020 12:00:00 AM</td>\n",
       "      <td>1200</td>\n",
       "      <td>1</td>\n",
       "      <td>Central</td>\n",
       "      <td>155</td>\n",
       "      <td>2</td>\n",
       "      <td>845</td>\n",
       "      <td>SEX OFFENDER REGISTRANT OUT OF COMPLIANCE</td>\n",
       "      <td>...</td>\n",
       "      <td>AA</td>\n",
       "      <td>Adult Arrest</td>\n",
       "      <td>845.0</td>\n",
       "      <td>NaN</td>\n",
       "      <td>NaN</td>\n",
       "      <td>NaN</td>\n",
       "      <td>200 E  6TH                          ST</td>\n",
       "      <td>NaN</td>\n",
       "      <td>34.0448</td>\n",
       "      <td>-118.2474</td>\n",
       "    </tr>\n",
       "  </tbody>\n",
       "</table>\n",
       "<p>3 rows × 28 columns</p>\n",
       "</div>"
      ],
      "text/plain": [
       "       DR_NO               Date Rptd                DATE OCC  TIME OCC  AREA  \\\n",
       "0   10304468  01/08/2020 12:00:00 AM  01/08/2020 12:00:00 AM      2230     3   \n",
       "1  190101086  01/02/2020 12:00:00 AM  01/01/2020 12:00:00 AM       330     1   \n",
       "2  200110444  04/14/2020 12:00:00 AM  02/13/2020 12:00:00 AM      1200     1   \n",
       "\n",
       "   AREA NAME  Rpt Dist No  Part 1-2  Crm Cd  \\\n",
       "0  Southwest          377         2     624   \n",
       "1    Central          163         2     624   \n",
       "2    Central          155         2     845   \n",
       "\n",
       "                                 Crm Cd Desc  ... Status   Status Desc  \\\n",
       "0                   BATTERY - SIMPLE ASSAULT  ...     AO   Adult Other   \n",
       "1                   BATTERY - SIMPLE ASSAULT  ...     IC   Invest Cont   \n",
       "2  SEX OFFENDER REGISTRANT OUT OF COMPLIANCE  ...     AA  Adult Arrest   \n",
       "\n",
       "  Crm Cd 1 Crm Cd 2  Crm Cd 3 Crm Cd 4  \\\n",
       "0    624.0      NaN       NaN      NaN   \n",
       "1    624.0      NaN       NaN      NaN   \n",
       "2    845.0      NaN       NaN      NaN   \n",
       "\n",
       "                                  LOCATION Cross Street      LAT       LON  \n",
       "0  1100 W  39TH                         PL          NaN  34.0141 -118.2978  \n",
       "1   700 S  HILL                         ST          NaN  34.0459 -118.2545  \n",
       "2   200 E  6TH                          ST          NaN  34.0448 -118.2474  \n",
       "\n",
       "[3 rows x 28 columns]"
      ]
     },
     "execution_count": 6,
     "metadata": {},
     "output_type": "execute_result"
    }
   ],
   "source": [
    "#import Dataset\n",
    "Crime=pd.read_csv('C:/Users/USER/Downloads/Crime_Data_from_2020_to_Present.csv', sep=',',encoding='latin-1')\n",
    "Crime.head(3)"
   ]
  },
  {
   "cell_type": "code",
   "execution_count": 7,
   "id": "c09b5edf",
   "metadata": {},
   "outputs": [
    {
     "data": {
      "text/plain": [
       "Index(['DR_NO', 'Date Rptd', 'DATE OCC', 'TIME OCC', 'AREA', 'AREA NAME',\n",
       "       'Rpt Dist No', 'Part 1-2', 'Crm Cd', 'Crm Cd Desc', 'Mocodes',\n",
       "       'Vict Age', 'Vict Sex', 'Vict Descent', 'Premis Cd', 'Premis Desc',\n",
       "       'Weapon Used Cd', 'Weapon Desc', 'Status', 'Status Desc', 'Crm Cd 1',\n",
       "       'Crm Cd 2', 'Crm Cd 3', 'Crm Cd 4', 'LOCATION', 'Cross Street', 'LAT',\n",
       "       'LON'],\n",
       "      dtype='object')"
      ]
     },
     "execution_count": 7,
     "metadata": {},
     "output_type": "execute_result"
    }
   ],
   "source": [
    "#column names\n",
    "\n",
    "Crime.columns"
   ]
  },
  {
   "cell_type": "code",
   "execution_count": 8,
   "id": "cbf248aa",
   "metadata": {},
   "outputs": [
    {
     "data": {
      "text/plain": [
       "(862906, 28)"
      ]
     },
     "execution_count": 8,
     "metadata": {},
     "output_type": "execute_result"
    }
   ],
   "source": [
    "#data shape by row and column\n",
    "\n",
    "Crime.shape"
   ]
  },
  {
   "cell_type": "code",
   "execution_count": 9,
   "id": "e0ef798e",
   "metadata": {},
   "outputs": [
    {
     "data": {
      "text/html": [
       "<div>\n",
       "<style scoped>\n",
       "    .dataframe tbody tr th:only-of-type {\n",
       "        vertical-align: middle;\n",
       "    }\n",
       "\n",
       "    .dataframe tbody tr th {\n",
       "        vertical-align: top;\n",
       "    }\n",
       "\n",
       "    .dataframe thead th {\n",
       "        text-align: right;\n",
       "    }\n",
       "</style>\n",
       "<table border=\"1\" class=\"dataframe\">\n",
       "  <thead>\n",
       "    <tr style=\"text-align: right;\">\n",
       "      <th></th>\n",
       "      <th>DR_NO</th>\n",
       "      <th>TIME OCC</th>\n",
       "      <th>AREA</th>\n",
       "      <th>Rpt Dist No</th>\n",
       "      <th>Part 1-2</th>\n",
       "      <th>Crm Cd</th>\n",
       "      <th>Vict Age</th>\n",
       "      <th>Premis Cd</th>\n",
       "      <th>Weapon Used Cd</th>\n",
       "      <th>Crm Cd 1</th>\n",
       "      <th>Crm Cd 2</th>\n",
       "      <th>Crm Cd 3</th>\n",
       "      <th>Crm Cd 4</th>\n",
       "      <th>LAT</th>\n",
       "      <th>LON</th>\n",
       "    </tr>\n",
       "  </thead>\n",
       "  <tbody>\n",
       "    <tr>\n",
       "      <th>count</th>\n",
       "      <td>8.629060e+05</td>\n",
       "      <td>862906.000000</td>\n",
       "      <td>862906.000000</td>\n",
       "      <td>862906.000000</td>\n",
       "      <td>862906.000000</td>\n",
       "      <td>862906.000000</td>\n",
       "      <td>862906.000000</td>\n",
       "      <td>862886.000000</td>\n",
       "      <td>299647.000000</td>\n",
       "      <td>862896.000000</td>\n",
       "      <td>58447.000000</td>\n",
       "      <td>1742.000000</td>\n",
       "      <td>57.000000</td>\n",
       "      <td>862906.000000</td>\n",
       "      <td>862906.000000</td>\n",
       "    </tr>\n",
       "    <tr>\n",
       "      <th>mean</th>\n",
       "      <td>1.961506e+08</td>\n",
       "      <td>1345.993386</td>\n",
       "      <td>10.860006</td>\n",
       "      <td>1132.317284</td>\n",
       "      <td>1.419721</td>\n",
       "      <td>501.994537</td>\n",
       "      <td>29.941419</td>\n",
       "      <td>309.283723</td>\n",
       "      <td>365.876218</td>\n",
       "      <td>501.778446</td>\n",
       "      <td>957.486697</td>\n",
       "      <td>981.040184</td>\n",
       "      <td>988.508772</td>\n",
       "      <td>34.026953</td>\n",
       "      <td>-118.190290</td>\n",
       "    </tr>\n",
       "    <tr>\n",
       "      <th>std</th>\n",
       "      <td>4.569677e+07</td>\n",
       "      <td>651.250248</td>\n",
       "      <td>6.138097</td>\n",
       "      <td>613.639293</td>\n",
       "      <td>0.493514</td>\n",
       "      <td>209.151447</td>\n",
       "      <td>21.510678</td>\n",
       "      <td>215.650185</td>\n",
       "      <td>121.857935</td>\n",
       "      <td>208.976666</td>\n",
       "      <td>111.831431</td>\n",
       "      <td>62.503758</td>\n",
       "      <td>29.758626</td>\n",
       "      <td>1.271577</td>\n",
       "      <td>4.400756</td>\n",
       "    </tr>\n",
       "    <tr>\n",
       "      <th>min</th>\n",
       "      <td>8.170000e+02</td>\n",
       "      <td>1.000000</td>\n",
       "      <td>1.000000</td>\n",
       "      <td>101.000000</td>\n",
       "      <td>1.000000</td>\n",
       "      <td>110.000000</td>\n",
       "      <td>-12.000000</td>\n",
       "      <td>101.000000</td>\n",
       "      <td>101.000000</td>\n",
       "      <td>110.000000</td>\n",
       "      <td>210.000000</td>\n",
       "      <td>310.000000</td>\n",
       "      <td>821.000000</td>\n",
       "      <td>0.000000</td>\n",
       "      <td>-118.766800</td>\n",
       "    </tr>\n",
       "    <tr>\n",
       "      <th>25%</th>\n",
       "      <td>1.620117e+08</td>\n",
       "      <td>900.000000</td>\n",
       "      <td>6.000000</td>\n",
       "      <td>625.000000</td>\n",
       "      <td>1.000000</td>\n",
       "      <td>330.000000</td>\n",
       "      <td>14.000000</td>\n",
       "      <td>102.000000</td>\n",
       "      <td>400.000000</td>\n",
       "      <td>330.000000</td>\n",
       "      <td>998.000000</td>\n",
       "      <td>998.000000</td>\n",
       "      <td>998.000000</td>\n",
       "      <td>34.010900</td>\n",
       "      <td>-118.430500</td>\n",
       "    </tr>\n",
       "    <tr>\n",
       "      <th>50%</th>\n",
       "      <td>2.201122e+08</td>\n",
       "      <td>1425.000000</td>\n",
       "      <td>11.000000</td>\n",
       "      <td>1162.000000</td>\n",
       "      <td>1.000000</td>\n",
       "      <td>442.000000</td>\n",
       "      <td>31.000000</td>\n",
       "      <td>203.000000</td>\n",
       "      <td>400.000000</td>\n",
       "      <td>442.000000</td>\n",
       "      <td>998.000000</td>\n",
       "      <td>998.000000</td>\n",
       "      <td>998.000000</td>\n",
       "      <td>34.059000</td>\n",
       "      <td>-118.320500</td>\n",
       "    </tr>\n",
       "    <tr>\n",
       "      <th>75%</th>\n",
       "      <td>2.311107e+08</td>\n",
       "      <td>1900.000000</td>\n",
       "      <td>16.000000</td>\n",
       "      <td>1655.000000</td>\n",
       "      <td>2.000000</td>\n",
       "      <td>626.000000</td>\n",
       "      <td>45.000000</td>\n",
       "      <td>501.000000</td>\n",
       "      <td>400.000000</td>\n",
       "      <td>626.000000</td>\n",
       "      <td>998.000000</td>\n",
       "      <td>998.000000</td>\n",
       "      <td>998.000000</td>\n",
       "      <td>34.166700</td>\n",
       "      <td>-118.273900</td>\n",
       "    </tr>\n",
       "    <tr>\n",
       "      <th>max</th>\n",
       "      <td>9.102204e+08</td>\n",
       "      <td>2359.000000</td>\n",
       "      <td>21.000000</td>\n",
       "      <td>2198.000000</td>\n",
       "      <td>2.000000</td>\n",
       "      <td>956.000000</td>\n",
       "      <td>99.000000</td>\n",
       "      <td>976.000000</td>\n",
       "      <td>516.000000</td>\n",
       "      <td>956.000000</td>\n",
       "      <td>999.000000</td>\n",
       "      <td>999.000000</td>\n",
       "      <td>999.000000</td>\n",
       "      <td>34.541800</td>\n",
       "      <td>0.000000</td>\n",
       "    </tr>\n",
       "  </tbody>\n",
       "</table>\n",
       "</div>"
      ],
      "text/plain": [
       "              DR_NO       TIME OCC           AREA    Rpt Dist No  \\\n",
       "count  8.629060e+05  862906.000000  862906.000000  862906.000000   \n",
       "mean   1.961506e+08    1345.993386      10.860006    1132.317284   \n",
       "std    4.569677e+07     651.250248       6.138097     613.639293   \n",
       "min    8.170000e+02       1.000000       1.000000     101.000000   \n",
       "25%    1.620117e+08     900.000000       6.000000     625.000000   \n",
       "50%    2.201122e+08    1425.000000      11.000000    1162.000000   \n",
       "75%    2.311107e+08    1900.000000      16.000000    1655.000000   \n",
       "max    9.102204e+08    2359.000000      21.000000    2198.000000   \n",
       "\n",
       "            Part 1-2         Crm Cd       Vict Age      Premis Cd  \\\n",
       "count  862906.000000  862906.000000  862906.000000  862886.000000   \n",
       "mean        1.419721     501.994537      29.941419     309.283723   \n",
       "std         0.493514     209.151447      21.510678     215.650185   \n",
       "min         1.000000     110.000000     -12.000000     101.000000   \n",
       "25%         1.000000     330.000000      14.000000     102.000000   \n",
       "50%         1.000000     442.000000      31.000000     203.000000   \n",
       "75%         2.000000     626.000000      45.000000     501.000000   \n",
       "max         2.000000     956.000000      99.000000     976.000000   \n",
       "\n",
       "       Weapon Used Cd       Crm Cd 1      Crm Cd 2     Crm Cd 3    Crm Cd 4  \\\n",
       "count   299647.000000  862896.000000  58447.000000  1742.000000   57.000000   \n",
       "mean       365.876218     501.778446    957.486697   981.040184  988.508772   \n",
       "std        121.857935     208.976666    111.831431    62.503758   29.758626   \n",
       "min        101.000000     110.000000    210.000000   310.000000  821.000000   \n",
       "25%        400.000000     330.000000    998.000000   998.000000  998.000000   \n",
       "50%        400.000000     442.000000    998.000000   998.000000  998.000000   \n",
       "75%        400.000000     626.000000    998.000000   998.000000  998.000000   \n",
       "max        516.000000     956.000000    999.000000   999.000000  999.000000   \n",
       "\n",
       "                 LAT            LON  \n",
       "count  862906.000000  862906.000000  \n",
       "mean       34.026953    -118.190290  \n",
       "std         1.271577       4.400756  \n",
       "min         0.000000    -118.766800  \n",
       "25%        34.010900    -118.430500  \n",
       "50%        34.059000    -118.320500  \n",
       "75%        34.166700    -118.273900  \n",
       "max        34.541800       0.000000  "
      ]
     },
     "execution_count": 9,
     "metadata": {},
     "output_type": "execute_result"
    }
   ],
   "source": [
    "Crime.describe()"
   ]
  },
  {
   "cell_type": "code",
   "execution_count": 10,
   "id": "4d026c05",
   "metadata": {},
   "outputs": [
    {
     "name": "stdout",
     "output_type": "stream",
     "text": [
      "<class 'pandas.core.frame.DataFrame'>\n",
      "RangeIndex: 862906 entries, 0 to 862905\n",
      "Data columns (total 28 columns):\n",
      " #   Column          Non-Null Count   Dtype  \n",
      "---  ------          --------------   -----  \n",
      " 0   DR_NO           862906 non-null  int64  \n",
      " 1   Date Rptd       862906 non-null  object \n",
      " 2   DATE OCC        862906 non-null  object \n",
      " 3   TIME OCC        862906 non-null  int64  \n",
      " 4   AREA            862906 non-null  int64  \n",
      " 5   AREA NAME       862906 non-null  object \n",
      " 6   Rpt Dist No     862906 non-null  int64  \n",
      " 7   Part 1-2        862906 non-null  int64  \n",
      " 8   Crm Cd          862906 non-null  int64  \n",
      " 9   Crm Cd Desc     862906 non-null  object \n",
      " 10  Mocodes         749241 non-null  object \n",
      " 11  Vict Age        862906 non-null  int64  \n",
      " 12  Vict Sex        757597 non-null  object \n",
      " 13  Vict Descent    757584 non-null  object \n",
      " 14  Premis Cd       862886 non-null  float64\n",
      " 15  Premis Desc     862398 non-null  object \n",
      " 16  Weapon Used Cd  299647 non-null  float64\n",
      " 17  Weapon Desc     299647 non-null  object \n",
      " 18  Status          862905 non-null  object \n",
      " 19  Status Desc     862906 non-null  object \n",
      " 20  Crm Cd 1        862896 non-null  float64\n",
      " 21  Crm Cd 2        58447 non-null   float64\n",
      " 22  Crm Cd 3        1742 non-null    float64\n",
      " 23  Crm Cd 4        57 non-null      float64\n",
      " 24  LOCATION        862906 non-null  object \n",
      " 25  Cross Street    135461 non-null  object \n",
      " 26  LAT             862906 non-null  float64\n",
      " 27  LON             862906 non-null  float64\n",
      "dtypes: float64(8), int64(7), object(13)\n",
      "memory usage: 184.3+ MB\n"
     ]
    }
   ],
   "source": [
    "Crime.info()"
   ]
  },
  {
   "cell_type": "code",
   "execution_count": 11,
   "id": "920c4e98",
   "metadata": {},
   "outputs": [
    {
     "data": {
      "text/plain": [
       "DR_NO                  0\n",
       "Date Rptd              0\n",
       "DATE OCC               0\n",
       "TIME OCC               0\n",
       "AREA                   0\n",
       "AREA NAME              0\n",
       "Rpt Dist No            0\n",
       "Part 1-2               0\n",
       "Crm Cd                 0\n",
       "Crm Cd Desc            0\n",
       "Mocodes           113665\n",
       "Vict Age               0\n",
       "Vict Sex          105309\n",
       "Vict Descent      105322\n",
       "Premis Cd             20\n",
       "Premis Desc          508\n",
       "Weapon Used Cd    563259\n",
       "Weapon Desc       563259\n",
       "Status                 1\n",
       "Status Desc            0\n",
       "Crm Cd 1              10\n",
       "Crm Cd 2          804459\n",
       "Crm Cd 3          861164\n",
       "Crm Cd 4          862849\n",
       "LOCATION               0\n",
       "Cross Street      727445\n",
       "LAT                    0\n",
       "LON                    0\n",
       "dtype: int64"
      ]
     },
     "execution_count": 11,
     "metadata": {},
     "output_type": "execute_result"
    }
   ],
   "source": [
    "#check for missing values\n",
    "\n",
    "Crime.isnull().sum()"
   ]
  },
  {
   "cell_type": "code",
   "execution_count": 12,
   "id": "7a5b5289",
   "metadata": {},
   "outputs": [
    {
     "data": {
      "text/plain": [
       "124959"
      ]
     },
     "execution_count": 12,
     "metadata": {},
     "output_type": "execute_result"
    }
   ],
   "source": [
    "#check for duplicates\n",
    "\n",
    "Crime.duplicated().sum()"
   ]
  },
  {
   "cell_type": "code",
   "execution_count": 13,
   "id": "3a25e011",
   "metadata": {},
   "outputs": [],
   "source": [
    "#drop duplicates\n",
    "\n",
    "Drop_duplicates = Crime.drop_duplicates()"
   ]
  },
  {
   "cell_type": "code",
   "execution_count": 14,
   "id": "53b9c8da",
   "metadata": {},
   "outputs": [
    {
     "data": {
      "text/plain": [
       "0"
      ]
     },
     "execution_count": 14,
     "metadata": {},
     "output_type": "execute_result"
    }
   ],
   "source": [
    "Drop_duplicates.duplicated().sum()"
   ]
  },
  {
   "cell_type": "code",
   "execution_count": 15,
   "id": "7f5e5b88",
   "metadata": {
    "scrolled": true
   },
   "outputs": [
    {
     "data": {
      "text/plain": [
       "DR_NO                  0\n",
       "Date Rptd              0\n",
       "DATE OCC               0\n",
       "TIME OCC               0\n",
       "AREA                   0\n",
       "AREA NAME              0\n",
       "Rpt Dist No            0\n",
       "Part 1-2               0\n",
       "Crm Cd                 0\n",
       "Crm Cd Desc            0\n",
       "Mocodes            94210\n",
       "Vict Age               0\n",
       "Vict Sex           87087\n",
       "Vict Descent       87097\n",
       "Premis Cd             18\n",
       "Premis Desc          348\n",
       "Weapon Used Cd    481059\n",
       "Weapon Desc       481059\n",
       "Status                 1\n",
       "Status Desc            0\n",
       "Crm Cd 1              10\n",
       "Crm Cd 2          687974\n",
       "Crm Cd 3          736538\n",
       "Crm Cd 4          737900\n",
       "LOCATION               0\n",
       "Cross Street      619732\n",
       "LAT                    0\n",
       "LON                    0\n",
       "dtype: int64"
      ]
     },
     "execution_count": 15,
     "metadata": {},
     "output_type": "execute_result"
    }
   ],
   "source": [
    "Drop_duplicates.isnull().sum()"
   ]
  },
  {
   "cell_type": "code",
   "execution_count": 16,
   "id": "dfc0f6de",
   "metadata": {},
   "outputs": [],
   "source": [
    "Drop = Drop_duplicates"
   ]
  },
  {
   "cell_type": "code",
   "execution_count": 17,
   "id": "3549d2bf",
   "metadata": {},
   "outputs": [],
   "source": [
    "#drop columns not needed in analysis\n",
    "\n",
    "Drop = Drop.drop(columns=['Crm Cd 1'])"
   ]
  },
  {
   "cell_type": "code",
   "execution_count": 18,
   "id": "1e8f106b",
   "metadata": {},
   "outputs": [],
   "source": [
    "Drop = Drop.drop(columns=['Crm Cd 2'])"
   ]
  },
  {
   "cell_type": "code",
   "execution_count": 19,
   "id": "91429251",
   "metadata": {},
   "outputs": [],
   "source": [
    "Drop = Drop.drop(columns=['Crm Cd 3'])"
   ]
  },
  {
   "cell_type": "code",
   "execution_count": 20,
   "id": "b7f7dbea",
   "metadata": {},
   "outputs": [],
   "source": [
    "Drop = Drop.drop(columns=['Crm Cd 4'])"
   ]
  },
  {
   "cell_type": "code",
   "execution_count": 21,
   "id": "44f14ab9",
   "metadata": {},
   "outputs": [
    {
     "data": {
      "text/plain": [
       "Index(['DR_NO', 'Date Rptd', 'DATE OCC', 'TIME OCC', 'AREA', 'AREA NAME',\n",
       "       'Rpt Dist No', 'Part 1-2', 'Crm Cd', 'Crm Cd Desc', 'Mocodes',\n",
       "       'Vict Age', 'Vict Sex', 'Vict Descent', 'Premis Cd', 'Premis Desc',\n",
       "       'Weapon Used Cd', 'Weapon Desc', 'Status', 'Status Desc', 'LOCATION',\n",
       "       'Cross Street', 'LAT', 'LON'],\n",
       "      dtype='object')"
      ]
     },
     "execution_count": 21,
     "metadata": {},
     "output_type": "execute_result"
    }
   ],
   "source": [
    "Drop.columns"
   ]
  },
  {
   "cell_type": "code",
   "execution_count": 22,
   "id": "8ca8676c",
   "metadata": {},
   "outputs": [],
   "source": [
    "dd = Drop"
   ]
  },
  {
   "cell_type": "code",
   "execution_count": 23,
   "id": "e7583d32",
   "metadata": {},
   "outputs": [],
   "source": [
    "#convert date dtype to datetime\n",
    "\n",
    "dd[[\"DATE OCC\", \"Date Rptd\"]] = dd[[\"DATE OCC\", \"Date Rptd\"]].apply(pd.to_datetime)\n"
   ]
  },
  {
   "cell_type": "code",
   "execution_count": 24,
   "id": "1702f745",
   "metadata": {},
   "outputs": [
    {
     "data": {
      "text/plain": [
       "AREA NAME\n",
       "Central        57481\n",
       "Southwest      48034\n",
       "Hollywood      44921\n",
       "77th Street    41346\n",
       "Southeast      41163\n",
       "Rampart        40164\n",
       "West LA        37039\n",
       "Wilshire       36363\n",
       "Pacific        36052\n",
       "Harbor         35175\n",
       "N Hollywood    34212\n",
       "Hollenbeck     32073\n",
       "Newton         32053\n",
       "Mission        30338\n",
       "Olympic        29968\n",
       "Topanga        29449\n",
       "Northeast      29442\n",
       "Van Nuys       28612\n",
       "West Valley    27436\n",
       "Devonshire     24883\n",
       "Foothill       21743\n",
       "Name: count, dtype: int64"
      ]
     },
     "execution_count": 24,
     "metadata": {},
     "output_type": "execute_result"
    }
   ],
   "source": [
    "#count of area names\n",
    "\n",
    "dd[\"AREA NAME\"].value_counts()"
   ]
  },
  {
   "cell_type": "code",
   "execution_count": 25,
   "id": "7293fd17",
   "metadata": {},
   "outputs": [],
   "source": [
    "# removing the values ​​below one for the \"Vict Age\" column\n",
    "dd.drop(dd[dd['Vict Age'] < 1].index, axis=0, inplace=True)"
   ]
  },
  {
   "cell_type": "code",
   "execution_count": 26,
   "id": "ade048c2",
   "metadata": {},
   "outputs": [
    {
     "data": {
      "text/plain": [
       "Crm Cd Desc\n",
       "BATTERY - SIMPLE ASSAULT                              62169\n",
       "BURGLARY FROM VEHICLE                                 49774\n",
       "THEFT OF IDENTITY                                     43346\n",
       "ASSAULT WITH DEADLY WEAPON, AGGRAVATED ASSAULT        37776\n",
       "INTIMATE PARTNER - SIMPLE ASSAULT                     36235\n",
       "                                                      ...  \n",
       "LYNCHING                                                  2\n",
       "FIREARMS EMERGENCY PROTECTIVE ORDER (FIREARMS EPO)        2\n",
       "INCEST (SEXUAL ACTS BETWEEN BLOOD RELATIVES)              2\n",
       "TRAIN WRECKING                                            1\n",
       "DISHONEST EMPLOYEE ATTEMPTED THEFT                        1\n",
       "Name: count, Length: 136, dtype: int64"
      ]
     },
     "execution_count": 26,
     "metadata": {},
     "output_type": "execute_result"
    }
   ],
   "source": [
    "dd[\"Crm Cd Desc\"].value_counts()"
   ]
  },
  {
   "cell_type": "code",
   "execution_count": 27,
   "id": "9f5047d5",
   "metadata": {},
   "outputs": [
    {
     "data": {
      "text/plain": [
       "Status\n",
       "IC    450719\n",
       "AO     67862\n",
       "AA     49101\n",
       "JA      2520\n",
       "JO      1216\n",
       "CC         5\n",
       "Name: count, dtype: int64"
      ]
     },
     "execution_count": 27,
     "metadata": {},
     "output_type": "execute_result"
    }
   ],
   "source": [
    "dd[\"Status\"].value_counts()"
   ]
  },
  {
   "cell_type": "code",
   "execution_count": 28,
   "id": "057e9adf",
   "metadata": {},
   "outputs": [],
   "source": [
    "dd['Vict Descent'].fillna('N/A', inplace=True)"
   ]
  },
  {
   "cell_type": "code",
   "execution_count": 29,
   "id": "c1b61418",
   "metadata": {},
   "outputs": [
    {
     "data": {
      "text/plain": [
       "Status Desc\n",
       "Invest Cont     450719\n",
       "Adult Other      67862\n",
       "Adult Arrest     49101\n",
       "Juv Arrest        2520\n",
       "Juv Other         1216\n",
       "UNK                  5\n",
       "Name: count, dtype: int64"
      ]
     },
     "execution_count": 29,
     "metadata": {},
     "output_type": "execute_result"
    }
   ],
   "source": [
    "dd[\"Status Desc\"].value_counts()"
   ]
  },
  {
   "cell_type": "code",
   "execution_count": 30,
   "id": "77968d03",
   "metadata": {},
   "outputs": [
    {
     "data": {
      "text/plain": [
       "LOCATION\n",
       "800 N  ALAMEDA                      ST     1177\n",
       "7TH                                        1146\n",
       "6TH                          ST            1118\n",
       "6TH                                        1082\n",
       "7TH                          ST            1079\n",
       "                                           ... \n",
       "6100    4TH                          AV       1\n",
       "7900    FAUST                        AV       1\n",
       "8000    FENWICK                      ST       1\n",
       "8400    SHOUP                        AV       1\n",
       "3600    COLISEUM                     ST       1\n",
       "Name: count, Length: 58901, dtype: int64"
      ]
     },
     "execution_count": 30,
     "metadata": {},
     "output_type": "execute_result"
    }
   ],
   "source": [
    "dd[\"LOCATION\"].value_counts()"
   ]
  },
  {
   "cell_type": "code",
   "execution_count": 31,
   "id": "6cd117c1",
   "metadata": {},
   "outputs": [
    {
     "data": {
      "text/html": [
       "<div>\n",
       "<style scoped>\n",
       "    .dataframe tbody tr th:only-of-type {\n",
       "        vertical-align: middle;\n",
       "    }\n",
       "\n",
       "    .dataframe tbody tr th {\n",
       "        vertical-align: top;\n",
       "    }\n",
       "\n",
       "    .dataframe thead th {\n",
       "        text-align: right;\n",
       "    }\n",
       "</style>\n",
       "<table border=\"1\" class=\"dataframe\">\n",
       "  <thead>\n",
       "    <tr style=\"text-align: right;\">\n",
       "      <th></th>\n",
       "      <th>Weapon Desc</th>\n",
       "      <th>DR_NO</th>\n",
       "    </tr>\n",
       "  </thead>\n",
       "  <tbody>\n",
       "    <tr>\n",
       "      <th>62</th>\n",
       "      <td>STRONG-ARM (HANDS, FIST, FEET OR BODILY FORCE)</td>\n",
       "      <td>135792</td>\n",
       "    </tr>\n",
       "    <tr>\n",
       "      <th>72</th>\n",
       "      <td>UNKNOWN WEAPON/OTHER WEAPON</td>\n",
       "      <td>23296</td>\n",
       "    </tr>\n",
       "    <tr>\n",
       "      <th>75</th>\n",
       "      <td>VERBAL THREAT</td>\n",
       "      <td>18459</td>\n",
       "    </tr>\n",
       "    <tr>\n",
       "      <th>27</th>\n",
       "      <td>HAND GUN</td>\n",
       "      <td>13364</td>\n",
       "    </tr>\n",
       "    <tr>\n",
       "      <th>32</th>\n",
       "      <td>KNIFE WITH BLADE 6INCHES OR LESS</td>\n",
       "      <td>4701</td>\n",
       "    </tr>\n",
       "    <tr>\n",
       "      <th>...</th>\n",
       "      <td>...</td>\n",
       "      <td>...</td>\n",
       "    </tr>\n",
       "    <tr>\n",
       "      <th>46</th>\n",
       "      <td>RELIC FIREARM</td>\n",
       "      <td>8</td>\n",
       "    </tr>\n",
       "    <tr>\n",
       "      <th>1</th>\n",
       "      <td>ANTIQUE FIREARM</td>\n",
       "      <td>7</td>\n",
       "    </tr>\n",
       "    <tr>\n",
       "      <th>38</th>\n",
       "      <td>MARTIAL ARTS WEAPONS</td>\n",
       "      <td>5</td>\n",
       "    </tr>\n",
       "    <tr>\n",
       "      <th>35</th>\n",
       "      <td>MAC-10 SEMIAUTOMATIC ASSAULT WEAPON</td>\n",
       "      <td>2</td>\n",
       "    </tr>\n",
       "    <tr>\n",
       "      <th>28</th>\n",
       "      <td>HECKLER &amp; KOCH 91 SEMIAUTOMATIC ASSAULT RIFLE</td>\n",
       "      <td>2</td>\n",
       "    </tr>\n",
       "  </tbody>\n",
       "</table>\n",
       "<p>76 rows × 2 columns</p>\n",
       "</div>"
      ],
      "text/plain": [
       "                                       Weapon Desc   DR_NO\n",
       "62  STRONG-ARM (HANDS, FIST, FEET OR BODILY FORCE)  135792\n",
       "72                     UNKNOWN WEAPON/OTHER WEAPON   23296\n",
       "75                                   VERBAL THREAT   18459\n",
       "27                                        HAND GUN   13364\n",
       "32                KNIFE WITH BLADE 6INCHES OR LESS    4701\n",
       "..                                             ...     ...\n",
       "46                                   RELIC FIREARM       8\n",
       "1                                  ANTIQUE FIREARM       7\n",
       "38                            MARTIAL ARTS WEAPONS       5\n",
       "35             MAC-10 SEMIAUTOMATIC ASSAULT WEAPON       2\n",
       "28   HECKLER & KOCH 91 SEMIAUTOMATIC ASSAULT RIFLE       2\n",
       "\n",
       "[76 rows x 2 columns]"
      ]
     },
     "execution_count": 31,
     "metadata": {},
     "output_type": "execute_result"
    }
   ],
   "source": [
    "dd.groupby(['Weapon Desc'])['DR_NO'].count().reset_index().sort_values(by='DR_NO', ascending=False)"
   ]
  },
  {
   "cell_type": "code",
   "execution_count": 32,
   "id": "8102ae86",
   "metadata": {},
   "outputs": [
    {
     "data": {
      "text/html": [
       "<div>\n",
       "<style scoped>\n",
       "    .dataframe tbody tr th:only-of-type {\n",
       "        vertical-align: middle;\n",
       "    }\n",
       "\n",
       "    .dataframe tbody tr th {\n",
       "        vertical-align: top;\n",
       "    }\n",
       "\n",
       "    .dataframe thead th {\n",
       "        text-align: right;\n",
       "    }\n",
       "</style>\n",
       "<table border=\"1\" class=\"dataframe\">\n",
       "  <thead>\n",
       "    <tr style=\"text-align: right;\">\n",
       "      <th></th>\n",
       "      <th>Vict Sex</th>\n",
       "      <th>DR_NO</th>\n",
       "    </tr>\n",
       "  </thead>\n",
       "  <tbody>\n",
       "    <tr>\n",
       "      <th>3</th>\n",
       "      <td>M</td>\n",
       "      <td>283838</td>\n",
       "    </tr>\n",
       "    <tr>\n",
       "      <th>1</th>\n",
       "      <td>F</td>\n",
       "      <td>280490</td>\n",
       "    </tr>\n",
       "    <tr>\n",
       "      <th>4</th>\n",
       "      <td>X</td>\n",
       "      <td>7019</td>\n",
       "    </tr>\n",
       "    <tr>\n",
       "      <th>2</th>\n",
       "      <td>H</td>\n",
       "      <td>49</td>\n",
       "    </tr>\n",
       "    <tr>\n",
       "      <th>0</th>\n",
       "      <td>-</td>\n",
       "      <td>1</td>\n",
       "    </tr>\n",
       "  </tbody>\n",
       "</table>\n",
       "</div>"
      ],
      "text/plain": [
       "  Vict Sex   DR_NO\n",
       "3        M  283838\n",
       "1        F  280490\n",
       "4        X    7019\n",
       "2        H      49\n",
       "0        -       1"
      ]
     },
     "execution_count": 32,
     "metadata": {},
     "output_type": "execute_result"
    }
   ],
   "source": [
    "dd.groupby(['Vict Sex'])['DR_NO'].count().reset_index().sort_values(by='DR_NO', ascending=False)"
   ]
  },
  {
   "cell_type": "code",
   "execution_count": 33,
   "id": "4f695944",
   "metadata": {},
   "outputs": [
    {
     "data": {
      "text/html": [
       "<div>\n",
       "<style scoped>\n",
       "    .dataframe tbody tr th:only-of-type {\n",
       "        vertical-align: middle;\n",
       "    }\n",
       "\n",
       "    .dataframe tbody tr th {\n",
       "        vertical-align: top;\n",
       "    }\n",
       "\n",
       "    .dataframe thead th {\n",
       "        text-align: right;\n",
       "    }\n",
       "</style>\n",
       "<table border=\"1\" class=\"dataframe\">\n",
       "  <thead>\n",
       "    <tr style=\"text-align: right;\">\n",
       "      <th></th>\n",
       "      <th>AREA NAME</th>\n",
       "      <th>Weapon Desc</th>\n",
       "      <th>LOCATION</th>\n",
       "    </tr>\n",
       "  </thead>\n",
       "  <tbody>\n",
       "    <tr>\n",
       "      <th>0</th>\n",
       "      <td>Southwest</td>\n",
       "      <td>STRONG-ARM (HANDS, FIST, FEET OR BODILY FORCE)</td>\n",
       "      <td>1100 W  39TH                         PL</td>\n",
       "    </tr>\n",
       "    <tr>\n",
       "      <th>1</th>\n",
       "      <td>Central</td>\n",
       "      <td>UNKNOWN WEAPON/OTHER WEAPON</td>\n",
       "      <td>700 S  HILL                         ST</td>\n",
       "    </tr>\n",
       "    <tr>\n",
       "      <th>3</th>\n",
       "      <td>N Hollywood</td>\n",
       "      <td>NaN</td>\n",
       "      <td>5400    CORTEEN                      PL</td>\n",
       "    </tr>\n",
       "    <tr>\n",
       "      <th>4</th>\n",
       "      <td>Mission</td>\n",
       "      <td>NaN</td>\n",
       "      <td>14400    TITUS                        ST</td>\n",
       "    </tr>\n",
       "    <tr>\n",
       "      <th>5</th>\n",
       "      <td>Central</td>\n",
       "      <td>UNKNOWN WEAPON/OTHER WEAPON</td>\n",
       "      <td>700 S  BROADWAY</td>\n",
       "    </tr>\n",
       "    <tr>\n",
       "      <th>...</th>\n",
       "      <td>...</td>\n",
       "      <td>...</td>\n",
       "      <td>...</td>\n",
       "    </tr>\n",
       "    <tr>\n",
       "      <th>862895</th>\n",
       "      <td>West LA</td>\n",
       "      <td>NaN</td>\n",
       "      <td>2000 S  HOLT                         AV</td>\n",
       "    </tr>\n",
       "    <tr>\n",
       "      <th>862897</th>\n",
       "      <td>West LA</td>\n",
       "      <td>NaN</td>\n",
       "      <td>10200    SANTA MONICA                 BL</td>\n",
       "    </tr>\n",
       "    <tr>\n",
       "      <th>862903</th>\n",
       "      <td>Central</td>\n",
       "      <td>NaN</td>\n",
       "      <td>500 S  MAIN                         ST</td>\n",
       "    </tr>\n",
       "    <tr>\n",
       "      <th>862904</th>\n",
       "      <td>Van Nuys</td>\n",
       "      <td>NaN</td>\n",
       "      <td>14500    HARTLAND                     ST</td>\n",
       "    </tr>\n",
       "    <tr>\n",
       "      <th>862905</th>\n",
       "      <td>Southwest</td>\n",
       "      <td>NaN</td>\n",
       "      <td>4100 S  HOBART                       BL</td>\n",
       "    </tr>\n",
       "  </tbody>\n",
       "</table>\n",
       "<p>571423 rows × 3 columns</p>\n",
       "</div>"
      ],
      "text/plain": [
       "          AREA NAME                                     Weapon Desc  \\\n",
       "0         Southwest  STRONG-ARM (HANDS, FIST, FEET OR BODILY FORCE)   \n",
       "1           Central                     UNKNOWN WEAPON/OTHER WEAPON   \n",
       "3       N Hollywood                                             NaN   \n",
       "4           Mission                                             NaN   \n",
       "5           Central                     UNKNOWN WEAPON/OTHER WEAPON   \n",
       "...             ...                                             ...   \n",
       "862895      West LA                                             NaN   \n",
       "862897      West LA                                             NaN   \n",
       "862903      Central                                             NaN   \n",
       "862904     Van Nuys                                             NaN   \n",
       "862905    Southwest                                             NaN   \n",
       "\n",
       "                                        LOCATION  \n",
       "0        1100 W  39TH                         PL  \n",
       "1         700 S  HILL                         ST  \n",
       "3        5400    CORTEEN                      PL  \n",
       "4       14400    TITUS                        ST  \n",
       "5                                700 S  BROADWAY  \n",
       "...                                          ...  \n",
       "862895   2000 S  HOLT                         AV  \n",
       "862897  10200    SANTA MONICA                 BL  \n",
       "862903    500 S  MAIN                         ST  \n",
       "862904  14500    HARTLAND                     ST  \n",
       "862905   4100 S  HOBART                       BL  \n",
       "\n",
       "[571423 rows x 3 columns]"
      ]
     },
     "execution_count": 33,
     "metadata": {},
     "output_type": "execute_result"
    }
   ],
   "source": [
    "dd[[\"AREA NAME\",\"Weapon Desc\", \"LOCATION\"]]"
   ]
  },
  {
   "cell_type": "code",
   "execution_count": 34,
   "id": "640d4b8f",
   "metadata": {},
   "outputs": [
    {
     "data": {
      "text/plain": [
       "39.0"
      ]
     },
     "execution_count": 34,
     "metadata": {},
     "output_type": "execute_result"
    }
   ],
   "source": [
    "#average victim age\n",
    "round(dd[\"Vict Age\"].mean(),0)"
   ]
  },
  {
   "cell_type": "code",
   "execution_count": 35,
   "id": "a6542460",
   "metadata": {},
   "outputs": [
    {
     "data": {
      "text/html": [
       "<div>\n",
       "<style scoped>\n",
       "    .dataframe tbody tr th:only-of-type {\n",
       "        vertical-align: middle;\n",
       "    }\n",
       "\n",
       "    .dataframe tbody tr th {\n",
       "        vertical-align: top;\n",
       "    }\n",
       "\n",
       "    .dataframe thead th {\n",
       "        text-align: right;\n",
       "    }\n",
       "</style>\n",
       "<table border=\"1\" class=\"dataframe\">\n",
       "  <thead>\n",
       "    <tr style=\"text-align: right;\">\n",
       "      <th></th>\n",
       "      <th>DR_NO</th>\n",
       "      <th>Date Rptd</th>\n",
       "      <th>DATE OCC</th>\n",
       "      <th>TIME OCC</th>\n",
       "      <th>AREA</th>\n",
       "      <th>AREA NAME</th>\n",
       "      <th>Rpt Dist No</th>\n",
       "      <th>Part 1-2</th>\n",
       "      <th>Crm Cd</th>\n",
       "      <th>Crm Cd Desc</th>\n",
       "      <th>...</th>\n",
       "      <th>Premis Cd</th>\n",
       "      <th>Premis Desc</th>\n",
       "      <th>Weapon Used Cd</th>\n",
       "      <th>Weapon Desc</th>\n",
       "      <th>Status</th>\n",
       "      <th>Status Desc</th>\n",
       "      <th>LOCATION</th>\n",
       "      <th>Cross Street</th>\n",
       "      <th>LAT</th>\n",
       "      <th>LON</th>\n",
       "    </tr>\n",
       "  </thead>\n",
       "  <tbody>\n",
       "    <tr>\n",
       "      <th>664507</th>\n",
       "      <td>231115064</td>\n",
       "      <td>2023-10-28</td>\n",
       "      <td>2023-07-29</td>\n",
       "      <td>2300</td>\n",
       "      <td>11</td>\n",
       "      <td>Northeast</td>\n",
       "      <td>1161</td>\n",
       "      <td>2</td>\n",
       "      <td>812</td>\n",
       "      <td>CRM AGNST CHLD (13 OR UNDER) (14-15 &amp; SUSP 10 ...</td>\n",
       "      <td>...</td>\n",
       "      <td>502.0</td>\n",
       "      <td>MULTI-UNIT DWELLING (APARTMENT, DUPLEX, ETC)</td>\n",
       "      <td>400.0</td>\n",
       "      <td>STRONG-ARM (HANDS, FIST, FEET OR BODILY FORCE)</td>\n",
       "      <td>IC</td>\n",
       "      <td>Invest Cont</td>\n",
       "      <td>1100 N  KENMORE                      AV</td>\n",
       "      <td>NaN</td>\n",
       "      <td>34.0908</td>\n",
       "      <td>-118.2974</td>\n",
       "    </tr>\n",
       "    <tr>\n",
       "      <th>672264</th>\n",
       "      <td>231304736</td>\n",
       "      <td>2023-01-15</td>\n",
       "      <td>2023-01-15</td>\n",
       "      <td>815</td>\n",
       "      <td>13</td>\n",
       "      <td>Newton</td>\n",
       "      <td>1321</td>\n",
       "      <td>1</td>\n",
       "      <td>815</td>\n",
       "      <td>SEXUAL PENETRATION W/FOREIGN OBJECT</td>\n",
       "      <td>...</td>\n",
       "      <td>501.0</td>\n",
       "      <td>SINGLE FAMILY DWELLING</td>\n",
       "      <td>400.0</td>\n",
       "      <td>STRONG-ARM (HANDS, FIST, FEET OR BODILY FORCE)</td>\n",
       "      <td>IC</td>\n",
       "      <td>Invest Cont</td>\n",
       "      <td>500 W  21ST                         ST</td>\n",
       "      <td>NaN</td>\n",
       "      <td>34.0317</td>\n",
       "      <td>-118.2722</td>\n",
       "    </tr>\n",
       "  </tbody>\n",
       "</table>\n",
       "<p>2 rows × 24 columns</p>\n",
       "</div>"
      ],
      "text/plain": [
       "            DR_NO  Date Rptd   DATE OCC  TIME OCC  AREA  AREA NAME  \\\n",
       "664507  231115064 2023-10-28 2023-07-29      2300    11  Northeast   \n",
       "672264  231304736 2023-01-15 2023-01-15       815    13     Newton   \n",
       "\n",
       "        Rpt Dist No  Part 1-2  Crm Cd  \\\n",
       "664507         1161         2     812   \n",
       "672264         1321         1     815   \n",
       "\n",
       "                                              Crm Cd Desc  ... Premis Cd  \\\n",
       "664507  CRM AGNST CHLD (13 OR UNDER) (14-15 & SUSP 10 ...  ...     502.0   \n",
       "672264                SEXUAL PENETRATION W/FOREIGN OBJECT  ...     501.0   \n",
       "\n",
       "                                         Premis Desc Weapon Used Cd  \\\n",
       "664507  MULTI-UNIT DWELLING (APARTMENT, DUPLEX, ETC)          400.0   \n",
       "672264                        SINGLE FAMILY DWELLING          400.0   \n",
       "\n",
       "                                           Weapon Desc  Status  Status Desc  \\\n",
       "664507  STRONG-ARM (HANDS, FIST, FEET OR BODILY FORCE)      IC  Invest Cont   \n",
       "672264  STRONG-ARM (HANDS, FIST, FEET OR BODILY FORCE)      IC  Invest Cont   \n",
       "\n",
       "                                       LOCATION Cross Street      LAT  \\\n",
       "664507  1100 N  KENMORE                      AV          NaN  34.0908   \n",
       "672264   500 W  21ST                         ST          NaN  34.0317   \n",
       "\n",
       "             LON  \n",
       "664507 -118.2974  \n",
       "672264 -118.2722  \n",
       "\n",
       "[2 rows x 24 columns]"
      ]
     },
     "execution_count": 35,
     "metadata": {},
     "output_type": "execute_result"
    }
   ],
   "source": [
    "duplicate_rows = dd[dd.duplicated()]\n",
    "duplicate_rows"
   ]
  },
  {
   "cell_type": "code",
   "execution_count": 36,
   "id": "108c4a46",
   "metadata": {},
   "outputs": [],
   "source": [
    "Data_without_duplicates = dd.drop_duplicates()\n"
   ]
  },
  {
   "cell_type": "code",
   "execution_count": 37,
   "id": "379a9612",
   "metadata": {},
   "outputs": [],
   "source": [
    "data = Data_without_duplicates"
   ]
  },
  {
   "cell_type": "code",
   "execution_count": 38,
   "id": "4df1d7f3",
   "metadata": {},
   "outputs": [
    {
     "data": {
      "image/png": "[encoded data removed]",
      "text/plain": [
       "<Figure size 800x600 with 1 Axes>"
      ]
     },
     "metadata": {},
     "output_type": "display_data"
    }
   ],
   "source": [
    "sex_counts = data['Vict Sex'].value_counts()\n",
    "\n",
    "# Plotting the bar chart\n",
    "plt.figure(figsize=(8, 6))\n",
    "sex_counts.plot(kind='bar')\n",
    "\n",
    "# Adding labels and title\n",
    "plt.title('Count of Victims by Sex')\n",
    "plt.xlabel('Victim Sex')\n",
    "plt.ylabel('Count')\n",
    "\n",
    "# Adding labels to each bar\n",
    "for i, count in enumerate(sex_counts):\n",
    "    plt.text(i, count + 0.1, str(count), ha='center', va='bottom')\n",
    "\n",
    "# Show plot\n",
    "plt.tight_layout()\n",
    "plt.show()"
   ]
  },
  {
   "cell_type": "code",
   "execution_count": 39,
   "id": "2a7c3059",
   "metadata": {},
   "outputs": [
    {
     "data": {
      "image/png": "[encoded data removed]",
      "text/plain": [
       "<Figure size 1000x600 with 1 Axes>"
      ]
     },
     "metadata": {},
     "output_type": "display_data"
    }
   ],
   "source": [
    "age_bins = [0, 20, 30, 40, 50, 60, 70, 80, 90, 100]\n",
    "labels = ['0-20', '21-30', '31-40', '41-50', '51-60', '61-70', '71-80', '81-90', '91-100']\n",
    "\n",
    "data.loc[:, 'Age Band'] = pd.cut(data['Vict Age'], bins=age_bins, labels=labels, right=False)\n",
    "\n",
    "# Calculate value counts for age bands\n",
    "age_counts = data['Age Band'].value_counts()\n",
    "\n",
    "# Sort age bands\n",
    "age_counts = age_counts.sort_index()\n",
    "\n",
    "# Plotting the bar chart\n",
    "plt.figure(figsize=(10, 6))\n",
    "age_counts.plot(kind='bar')\n",
    "\n",
    "# Adding labels and title\n",
    "plt.title('Count of Victims by Age Band')\n",
    "plt.xlabel('Age Band')\n",
    "plt.ylabel('Count')\n",
    "\n",
    "# Adding labels to each bar\n",
    "for i, count in enumerate(age_counts):\n",
    "    plt.text(i, count + 0.1, str(count), ha='center', va='bottom')\n",
    "\n",
    "# Show plot\n",
    "plt.xticks(rotation=45)\n",
    "plt.tight_layout()\n",
    "plt.show()"
   ]
  },
  {
   "cell_type": "code",
   "execution_count": 40,
   "id": "62530b9f",
   "metadata": {},
   "outputs": [
    {
     "data": {
      "image/png": "[encoded data removed]",
      "text/plain": [
       "<Figure size 1200x800 with 1 Axes>"
      ]
     },
     "metadata": {},
     "output_type": "display_data"
    }
   ],
   "source": [
    "data.loc[:, 'DATE OCC'] = pd.to_datetime(data['DATE OCC'])\n",
    "\n",
    "# Extract month name using .loc\n",
    "data.loc[:, 'Month Name'] = data['DATE OCC'].dt.strftime('%B')\n",
    "\n",
    "# Extract month, quarter, day, and year\n",
    "data.loc[:, 'Month'] = data['DATE OCC'].dt.month\n",
    "data.loc[:, 'Quarter'] = data['DATE OCC'].dt.quarter\n",
    "data.loc[:, 'Day'] = data['DATE OCC'].dt.day\n",
    "data.loc[:, 'Year'] = data['DATE OCC'].dt.year\n",
    "\n",
    "# Calculate counts for each date component\n",
    "month_counts = data['Month'].value_counts().sort_index()\n",
    "quarter_counts = data['Quarter'].value_counts().sort_index()\n",
    "day_counts = data['Day'].value_counts().sort_index()\n",
    "year_counts = data['Year'].value_counts().sort_index()\n",
    "\n",
    "# Plotting the line charts\n",
    "plt.figure(figsize=(12, 8))\n",
    "\n",
    "plt.subplot(2, 2, 1)\n",
    "# Replace numerical month values with month names\n",
    "month_counts.index = [pd.Timestamp(2022, month, 1).strftime('%B') for month in month_counts.index]\n",
    "month_counts.plot(kind='line', color='blue')\n",
    "plt.title('Occurrences by Month')\n",
    "plt.xlabel('Month')\n",
    "plt.ylabel('Count')\n",
    "\n",
    "plt.tight_layout()\n",
    "plt.show()"
   ]
  },
  {
   "cell_type": "code",
   "execution_count": 41,
   "id": "2fa2bd1c",
   "metadata": {},
   "outputs": [
    {
     "data": {
      "image/png": "[encoded data removed]",
      "text/plain": [
       "<Figure size 800x600 with 1 Axes>"
      ]
     },
     "metadata": {},
     "output_type": "display_data"
    }
   ],
   "source": [
    "data.loc[:, 'DATE OCC'] = pd.to_datetime(data['DATE OCC'])\n",
    "\n",
    "# Extract quarter\n",
    "data.loc[:, 'Quarter'] = data['DATE OCC'].dt.quarter\n",
    "\n",
    "# Calculate counts for each quarter\n",
    "quarter_counts = data['Quarter'].value_counts().sort_index()\n",
    "\n",
    "# Plotting the line chart for quarters\n",
    "plt.figure(figsize=(8, 6))\n",
    "\n",
    "# Replace numerical quarter values with quarter names\n",
    "quarter_counts.index = ['Q1', 'Q2', 'Q3', 'Q4']\n",
    "\n",
    "quarter_counts.plot(kind='line', color='green')\n",
    "plt.title('Occurrences by Quarter')\n",
    "plt.xlabel('Quarter')\n",
    "plt.ylabel('Count')\n",
    "plt.xticks(rotation=45)\n",
    "\n",
    "plt.tight_layout()\n",
    "plt.show()"
   ]
  },
  {
   "cell_type": "code",
   "execution_count": 42,
   "id": "27e6555e",
   "metadata": {},
   "outputs": [
    {
     "data": {
      "image/png": "[encoded data removed]",
      "text/plain": [
       "<Figure size 1000x600 with 1 Axes>"
      ]
     },
     "metadata": {},
     "output_type": "display_data"
    }
   ],
   "source": [
    "data = data.copy()  # Create a copy of the DataFrame to avoid SettingWithCopyWarning\n",
    "\n",
    "data.loc[:, 'DATE OCC'] = pd.to_datetime(data['DATE OCC'])\n",
    "\n",
    "# Extract day name\n",
    "data.loc[:, 'Day Name'] = data['DATE OCC'].dt.strftime('%A')\n",
    "\n",
    "# Calculate counts for each day\n",
    "day_counts = data['Day Name'].value_counts().sort_index()\n",
    "\n",
    "day_counts = day_counts.reindex(['Monday', 'Tuesday', 'Wednesday', 'Thursday', 'Friday', 'Saturday', 'Sunday'])\n",
    "\n",
    "# Plotting the line chart for days with day names\n",
    "plt.figure(figsize=(10, 6))\n",
    "\n",
    "day_counts.plot(kind='line', color='purple')\n",
    "plt.title('Occurrences by Day')\n",
    "plt.xlabel('Day of the Week')\n",
    "plt.ylabel('Count')\n",
    "plt.xticks(rotation=45)\n",
    "\n",
    "plt.tight_layout()\n",
    "plt.show()"
   ]
  },
  {
   "cell_type": "code",
   "execution_count": 43,
   "id": "2f078abb",
   "metadata": {},
   "outputs": [
    {
     "data": {
      "image/png": "[encoded data removed]",
      "text/plain": [
       "<Figure size 1000x600 with 1 Axes>"
      ]
     },
     "metadata": {},
     "output_type": "display_data"
    }
   ],
   "source": [
    "data.loc[:, 'DATE OCC'] = pd.to_datetime(data['DATE OCC'])\n",
    "\n",
    "# Extract year\n",
    "data.loc[:, 'Year'] = data['DATE OCC'].dt.year\n",
    "\n",
    "# Calculate counts for each year\n",
    "year_counts = data['Year'].value_counts().sort_index()\n",
    "\n",
    "# Plotting the line chart for counts by year\n",
    "plt.figure(figsize=(10, 6))\n",
    "\n",
    "year_counts.plot(kind='line', color='green')\n",
    "plt.title('Occurrences by Year')\n",
    "plt.xlabel('Year')\n",
    "plt.ylabel('Count')\n",
    "\n",
    "plt.tight_layout()\n",
    "plt.show()"
   ]
  },
  {
   "cell_type": "code",
   "execution_count": 44,
   "id": "1344cb57",
   "metadata": {},
   "outputs": [
    {
     "data": {
      "image/png": "[encoded data removed]",
      "text/plain": [
       "<Figure size 800x600 with 1 Axes>"
      ]
     },
     "metadata": {},
     "output_type": "display_data"
    }
   ],
   "source": [
    "Data = {'TIME OCC': [\"2230\", \"1345\", \"0830\", \"1740\"]}\n",
    "df = pd.DataFrame(Data)\n",
    "\n",
    "# Convert time data to datetime format\n",
    "df['TIME OCC'] = pd.to_datetime(df['TIME OCC'], format='%H%M').dt.time\n",
    "\n",
    "# Define function to categorize time into bands\n",
    "def categorize_time(time):\n",
    "    hour = time.hour\n",
    "    if hour < 12:\n",
    "        return 'Morning'\n",
    "    elif hour < 18:\n",
    "        return 'Afternoon'\n",
    "    else:\n",
    "        return 'Evening'\n",
    "\n",
    "# Apply the function to create a new column for time bands\n",
    "df['Time Band'] = df['TIME OCC'].apply(categorize_time)\n",
    "\n",
    "# Calculate counts for each time band\n",
    "time_band_counts = df['Time Band'].value_counts()\n",
    "\n",
    "# Plotting the bar chart for time bands\n",
    "plt.figure(figsize=(8, 6))\n",
    "\n",
    "time_band_counts.plot(kind='bar', color='green')\n",
    "plt.title('Occurrences by Time Band')\n",
    "plt.xlabel('Time Band')\n",
    "plt.ylabel('Count')\n",
    "\n",
    "plt.tight_layout()\n",
    "plt.show()"
   ]
  }
 ],
 "metadata": {
  "kernelspec": {
   "display_name": "Python 3 (ipykernel)",
   "language": "python",
   "name": "python3"
  },
  "language_info": {
   "codemirror_mode": {
    "name": "ipython",
    "version": 3
   },
   "file_extension": ".py",
   "mimetype": "text/x-python",
   "name": "python",
   "nbconvert_exporter": "python",
   "pygments_lexer": "ipython3",
   "version": "3.11.5"
  }
 },
 "nbformat": 4,
 "nbformat_minor": 5
}
